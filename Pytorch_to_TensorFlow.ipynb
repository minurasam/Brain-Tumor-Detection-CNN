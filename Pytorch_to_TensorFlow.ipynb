{
  "nbformat": 4,
  "nbformat_minor": 0,
  "metadata": {
    "colab": {
      "name": "Pytorch_to_TensorFlow.ipynb",
      "provenance": [],
      "collapsed_sections": [],
      "machine_shape": "hm",
      "authorship_tag": "ABX9TyN5WSrIUtaInSDXRrSDPTWD",
      "include_colab_link": true
    },
    "kernelspec": {
      "name": "python3",
      "display_name": "Python 3"
    },
    "language_info": {
      "name": "python"
    },
    "accelerator": "TPU"
  },
  "cells": [
    {
      "cell_type": "markdown",
      "metadata": {
        "id": "view-in-github",
        "colab_type": "text"
      },
      "source": [
        "<a href=\"https://colab.research.google.com/github/minurasam/Brain-Tumor-Detection-CNN/blob/main/Pytorch_to_TensorFlow.ipynb\" target=\"_parent\"><img src=\"https://colab.research.google.com/assets/colab-badge.svg\" alt=\"Open In Colab\"/></a>"
      ]
    },
    {
      "cell_type": "code",
      "source": [
        "from google.colab import drive\n",
        "drive._mount('/content/drive')"
      ],
      "metadata": {
        "id": "KAP0RPHTH7E-",
        "colab": {
          "base_uri": "https://localhost:8080/"
        },
        "outputId": "c41782fd-1757-49ae-a636-27f24f8ae34e"
      },
      "execution_count": 2,
      "outputs": [
        {
          "output_type": "stream",
          "name": "stdout",
          "text": [
            "Mounted at /content/drive\n"
          ]
        }
      ]
    },
    {
      "cell_type": "code",
      "source": [
        "!pip install albumentations==0.4.6\n",
        "!pip install nilearn\n",
        "!pip install pydicom"
      ],
      "metadata": {
        "id": "v8bzZlV9H1Q-",
        "colab": {
          "base_uri": "https://localhost:8080/"
        },
        "outputId": "8ce667c4-24e5-4721-ce64-a1ab473b7ca0"
      },
      "execution_count": 3,
      "outputs": [
        {
          "output_type": "stream",
          "name": "stdout",
          "text": [
            "Collecting albumentations==0.4.6\n",
            "  Downloading albumentations-0.4.6.tar.gz (117 kB)\n",
            "\u001b[K     |████████████████████████████████| 117 kB 5.4 MB/s \n",
            "\u001b[?25hRequirement already satisfied: numpy>=1.11.1 in /usr/local/lib/python3.7/dist-packages (from albumentations==0.4.6) (1.19.5)\n",
            "Requirement already satisfied: scipy in /usr/local/lib/python3.7/dist-packages (from albumentations==0.4.6) (1.4.1)\n",
            "Collecting imgaug>=0.4.0\n",
            "  Downloading imgaug-0.4.0-py2.py3-none-any.whl (948 kB)\n",
            "\u001b[K     |████████████████████████████████| 948 kB 46.6 MB/s \n",
            "\u001b[?25hRequirement already satisfied: PyYAML in /usr/local/lib/python3.7/dist-packages (from albumentations==0.4.6) (3.13)\n",
            "Requirement already satisfied: opencv-python>=4.1.1 in /usr/local/lib/python3.7/dist-packages (from albumentations==0.4.6) (4.1.2.30)\n",
            "Requirement already satisfied: imageio in /usr/local/lib/python3.7/dist-packages (from imgaug>=0.4.0->albumentations==0.4.6) (2.4.1)\n",
            "Requirement already satisfied: Shapely in /usr/local/lib/python3.7/dist-packages (from imgaug>=0.4.0->albumentations==0.4.6) (1.8.0)\n",
            "Requirement already satisfied: six in /usr/local/lib/python3.7/dist-packages (from imgaug>=0.4.0->albumentations==0.4.6) (1.15.0)\n",
            "Requirement already satisfied: Pillow in /usr/local/lib/python3.7/dist-packages (from imgaug>=0.4.0->albumentations==0.4.6) (7.1.2)\n",
            "Requirement already satisfied: matplotlib in /usr/local/lib/python3.7/dist-packages (from imgaug>=0.4.0->albumentations==0.4.6) (3.2.2)\n",
            "Requirement already satisfied: scikit-image>=0.14.2 in /usr/local/lib/python3.7/dist-packages (from imgaug>=0.4.0->albumentations==0.4.6) (0.18.3)\n",
            "Requirement already satisfied: PyWavelets>=1.1.1 in /usr/local/lib/python3.7/dist-packages (from scikit-image>=0.14.2->imgaug>=0.4.0->albumentations==0.4.6) (1.2.0)\n",
            "Requirement already satisfied: tifffile>=2019.7.26 in /usr/local/lib/python3.7/dist-packages (from scikit-image>=0.14.2->imgaug>=0.4.0->albumentations==0.4.6) (2021.11.2)\n",
            "Requirement already satisfied: networkx>=2.0 in /usr/local/lib/python3.7/dist-packages (from scikit-image>=0.14.2->imgaug>=0.4.0->albumentations==0.4.6) (2.6.3)\n",
            "Requirement already satisfied: cycler>=0.10 in /usr/local/lib/python3.7/dist-packages (from matplotlib->imgaug>=0.4.0->albumentations==0.4.6) (0.11.0)\n",
            "Requirement already satisfied: python-dateutil>=2.1 in /usr/local/lib/python3.7/dist-packages (from matplotlib->imgaug>=0.4.0->albumentations==0.4.6) (2.8.2)\n",
            "Requirement already satisfied: kiwisolver>=1.0.1 in /usr/local/lib/python3.7/dist-packages (from matplotlib->imgaug>=0.4.0->albumentations==0.4.6) (1.3.2)\n",
            "Requirement already satisfied: pyparsing!=2.0.4,!=2.1.2,!=2.1.6,>=2.0.1 in /usr/local/lib/python3.7/dist-packages (from matplotlib->imgaug>=0.4.0->albumentations==0.4.6) (3.0.6)\n",
            "Building wheels for collected packages: albumentations\n",
            "  Building wheel for albumentations (setup.py) ... \u001b[?25l\u001b[?25hdone\n",
            "  Created wheel for albumentations: filename=albumentations-0.4.6-py3-none-any.whl size=65172 sha256=d9c50416d437ab45650832baf878bada121c9fcea9d186750f5279ba48b979d3\n",
            "  Stored in directory: /root/.cache/pip/wheels/cf/34/0f/cb2a5f93561a181a4bcc84847ad6aaceea8b5a3127469616cc\n",
            "Successfully built albumentations\n",
            "Installing collected packages: imgaug, albumentations\n",
            "  Attempting uninstall: imgaug\n",
            "    Found existing installation: imgaug 0.2.9\n",
            "    Uninstalling imgaug-0.2.9:\n",
            "      Successfully uninstalled imgaug-0.2.9\n",
            "  Attempting uninstall: albumentations\n",
            "    Found existing installation: albumentations 0.1.12\n",
            "    Uninstalling albumentations-0.1.12:\n",
            "      Successfully uninstalled albumentations-0.1.12\n",
            "Successfully installed albumentations-0.4.6 imgaug-0.4.0\n",
            "Collecting nilearn\n",
            "  Downloading nilearn-0.8.1-py3-none-any.whl (10.0 MB)\n",
            "\u001b[K     |████████████████████████████████| 10.0 MB 5.5 MB/s \n",
            "\u001b[?25hRequirement already satisfied: numpy>=1.16 in /usr/local/lib/python3.7/dist-packages (from nilearn) (1.19.5)\n",
            "Requirement already satisfied: pandas>=0.24.0 in /usr/local/lib/python3.7/dist-packages (from nilearn) (1.1.5)\n",
            "Requirement already satisfied: scipy>=1.2 in /usr/local/lib/python3.7/dist-packages (from nilearn) (1.4.1)\n",
            "Requirement already satisfied: joblib>=0.12 in /usr/local/lib/python3.7/dist-packages (from nilearn) (1.1.0)\n",
            "Requirement already satisfied: scikit-learn>=0.21 in /usr/local/lib/python3.7/dist-packages (from nilearn) (1.0.1)\n",
            "Requirement already satisfied: requests>=2 in /usr/local/lib/python3.7/dist-packages (from nilearn) (2.23.0)\n",
            "Requirement already satisfied: nibabel>=2.5 in /usr/local/lib/python3.7/dist-packages (from nilearn) (3.0.2)\n",
            "Requirement already satisfied: python-dateutil>=2.7.3 in /usr/local/lib/python3.7/dist-packages (from pandas>=0.24.0->nilearn) (2.8.2)\n",
            "Requirement already satisfied: pytz>=2017.2 in /usr/local/lib/python3.7/dist-packages (from pandas>=0.24.0->nilearn) (2018.9)\n",
            "Requirement already satisfied: six>=1.5 in /usr/local/lib/python3.7/dist-packages (from python-dateutil>=2.7.3->pandas>=0.24.0->nilearn) (1.15.0)\n",
            "Requirement already satisfied: chardet<4,>=3.0.2 in /usr/local/lib/python3.7/dist-packages (from requests>=2->nilearn) (3.0.4)\n",
            "Requirement already satisfied: certifi>=2017.4.17 in /usr/local/lib/python3.7/dist-packages (from requests>=2->nilearn) (2021.10.8)\n",
            "Requirement already satisfied: idna<3,>=2.5 in /usr/local/lib/python3.7/dist-packages (from requests>=2->nilearn) (2.10)\n",
            "Requirement already satisfied: urllib3!=1.25.0,!=1.25.1,<1.26,>=1.21.1 in /usr/local/lib/python3.7/dist-packages (from requests>=2->nilearn) (1.24.3)\n",
            "Requirement already satisfied: threadpoolctl>=2.0.0 in /usr/local/lib/python3.7/dist-packages (from scikit-learn>=0.21->nilearn) (3.0.0)\n",
            "Installing collected packages: nilearn\n",
            "Successfully installed nilearn-0.8.1\n",
            "Collecting pydicom\n",
            "  Downloading pydicom-2.2.2-py3-none-any.whl (2.0 MB)\n",
            "\u001b[K     |████████████████████████████████| 2.0 MB 4.5 MB/s \n",
            "\u001b[?25hInstalling collected packages: pydicom\n",
            "Successfully installed pydicom-2.2.2\n"
          ]
        }
      ]
    },
    {
      "cell_type": "code",
      "metadata": {
        "id": "Qe435uBQJSHy",
        "colab": {
          "base_uri": "https://localhost:8080/"
        },
        "outputId": "756128a6-b849-485e-d010-6398737bec8e"
      },
      "source": [
        "from tqdm import tqdm\n",
        "import os\n",
        "import time\n",
        "import cv2\n",
        "from random import randint\n",
        "\n",
        "import numpy as np\n",
        "from scipy import stats\n",
        "import pandas as pd\n",
        "\n",
        "from sklearn.model_selection import train_test_split\n",
        "from sklearn.model_selection import StratifiedKFold\n",
        "from sklearn.preprocessing import StandardScaler\n",
        "from sklearn.svm import SVR\n",
        "from sklearn.model_selection import KFold\n",
        "\n",
        "import nibabel as nib\n",
        "import pydicom as pdm\n",
        "import nilearn as nl\n",
        "import nilearn.plotting as nlplt\n",
        "import h5py\n",
        "\n",
        "import matplotlib.pyplot as plt\n",
        "from matplotlib import cm\n",
        "import matplotlib.animation as anim\n",
        "import matplotlib.patches as mpatches\n",
        "import matplotlib.gridspec as gridspec\n",
        "\n",
        "import seaborn as sns\n",
        "import imageio\n",
        "from skimage.transform import resize\n",
        "from skimage.util import montage\n",
        "\n",
        "from IPython.display import Image as show_gif\n",
        "from IPython.display import clear_output\n",
        "from IPython.display import YouTubeVideo\n",
        "\n",
        "import torch\n",
        "import torch.nn as nn\n",
        "from torch.utils.data import Dataset, DataLoader\n",
        "import torch.nn.functional as F\n",
        "\n",
        "from torch.optim import Adam\n",
        "from torch.optim.lr_scheduler import ReduceLROnPlateau\n",
        "from torch.nn import MSELoss\n",
        "\n",
        "\n",
        "# import albumentations as A\n",
        "from albumentations import Compose, HorizontalFlip\n",
        "# from albumentations.pytorch import ToTensor, ToTensorV2 \n",
        "\n",
        "import warnings\n",
        "warnings.simplefilter(\"ignore\")"
      ],
      "execution_count": 4,
      "outputs": [
        {
          "output_type": "stream",
          "name": "stderr",
          "text": [
            "/usr/local/lib/python3.7/dist-packages/nilearn/datasets/__init__.py:96: FutureWarning: Fetchers from the nilearn.datasets module will be updated in version 0.9 to return python strings instead of bytes and Pandas dataframes instead of Numpy arrays.\n",
            "  \"Numpy arrays.\", FutureWarning)\n"
          ]
        }
      ]
    },
    {
      "cell_type": "code",
      "source": [
        "!pip install simpleitk"
      ],
      "metadata": {
        "colab": {
          "base_uri": "https://localhost:8080/"
        },
        "id": "Xd_kPaMGAGjX",
        "outputId": "5d4847a8-efc6-4a18-906a-be82bc25fb1d"
      },
      "execution_count": 5,
      "outputs": [
        {
          "output_type": "stream",
          "name": "stdout",
          "text": [
            "Collecting simpleitk\n",
            "  Downloading SimpleITK-2.1.1-cp37-cp37m-manylinux_2_12_x86_64.manylinux2010_x86_64.whl (48.4 MB)\n",
            "\u001b[K     |████████████████████████████████| 48.4 MB 28 kB/s \n",
            "\u001b[?25hInstalling collected packages: simpleitk\n",
            "Successfully installed simpleitk-2.1.1\n"
          ]
        }
      ]
    },
    {
      "cell_type": "code",
      "source": [
        "import SimpleITK as sitk\n",
        "import numpy as np\n",
        "\n",
        "# A path to a T1-weighted brain .nii image:\n",
        "t1_fn = '/content/drive/MyDrive/Research Experiments/Training/BraTS20_Training_001_flair.nii'\n",
        "\n",
        "# Read the .nii image containing the volume with SimpleITK:\n",
        "sitk_t1 = sitk.ReadImage(t1_fn)\n",
        "\n",
        "# and access the numpy array:\n",
        "t1 = sitk.GetArrayFromImage(sitk_t1)\n",
        "t1"
      ],
      "metadata": {
        "id": "1yrwvNYrJ8JQ",
        "colab": {
          "base_uri": "https://localhost:8080/"
        },
        "outputId": "91677bbb-7446-450e-f1c2-7090dfaa5bf7"
      },
      "execution_count": 6,
      "outputs": [
        {
          "output_type": "execute_result",
          "data": {
            "text/plain": [
              "array([[[0, 0, 0, ..., 0, 0, 0],\n",
              "        [0, 0, 0, ..., 0, 0, 0],\n",
              "        [0, 0, 0, ..., 0, 0, 0],\n",
              "        ...,\n",
              "        [0, 0, 0, ..., 0, 0, 0],\n",
              "        [0, 0, 0, ..., 0, 0, 0],\n",
              "        [0, 0, 0, ..., 0, 0, 0]],\n",
              "\n",
              "       [[0, 0, 0, ..., 0, 0, 0],\n",
              "        [0, 0, 0, ..., 0, 0, 0],\n",
              "        [0, 0, 0, ..., 0, 0, 0],\n",
              "        ...,\n",
              "        [0, 0, 0, ..., 0, 0, 0],\n",
              "        [0, 0, 0, ..., 0, 0, 0],\n",
              "        [0, 0, 0, ..., 0, 0, 0]],\n",
              "\n",
              "       [[0, 0, 0, ..., 0, 0, 0],\n",
              "        [0, 0, 0, ..., 0, 0, 0],\n",
              "        [0, 0, 0, ..., 0, 0, 0],\n",
              "        ...,\n",
              "        [0, 0, 0, ..., 0, 0, 0],\n",
              "        [0, 0, 0, ..., 0, 0, 0],\n",
              "        [0, 0, 0, ..., 0, 0, 0]],\n",
              "\n",
              "       ...,\n",
              "\n",
              "       [[0, 0, 0, ..., 0, 0, 0],\n",
              "        [0, 0, 0, ..., 0, 0, 0],\n",
              "        [0, 0, 0, ..., 0, 0, 0],\n",
              "        ...,\n",
              "        [0, 0, 0, ..., 0, 0, 0],\n",
              "        [0, 0, 0, ..., 0, 0, 0],\n",
              "        [0, 0, 0, ..., 0, 0, 0]],\n",
              "\n",
              "       [[0, 0, 0, ..., 0, 0, 0],\n",
              "        [0, 0, 0, ..., 0, 0, 0],\n",
              "        [0, 0, 0, ..., 0, 0, 0],\n",
              "        ...,\n",
              "        [0, 0, 0, ..., 0, 0, 0],\n",
              "        [0, 0, 0, ..., 0, 0, 0],\n",
              "        [0, 0, 0, ..., 0, 0, 0]],\n",
              "\n",
              "       [[0, 0, 0, ..., 0, 0, 0],\n",
              "        [0, 0, 0, ..., 0, 0, 0],\n",
              "        [0, 0, 0, ..., 0, 0, 0],\n",
              "        ...,\n",
              "        [0, 0, 0, ..., 0, 0, 0],\n",
              "        [0, 0, 0, ..., 0, 0, 0],\n",
              "        [0, 0, 0, ..., 0, 0, 0]]], dtype=int16)"
            ]
          },
          "metadata": {},
          "execution_count": 6
        }
      ]
    },
    {
      "cell_type": "code",
      "source": [
        "class GlobalConfig:\n",
        "  root_dir = '/content/drive/MyDrive/Research Experiments/'\n",
        "  train_root_dir = '/content/drive/MyDrive/Research Experiments/Training/'\n",
        "  test_root_dir = '/content/drive/MyDrive/Research Experiments/Validation/'\n",
        "  path_to_csv = './train_data.csv'\n",
        "  pretrained_model_path = '/content/drive/MyDrive/Research Experiments/unet/last_epoch_model.pth'\n",
        "  train_logs_path = '/content/drive/MyDrive/Research Experiments/unet/train_log.csv'\n",
        "  ae_pretrained_model_path = '/content/drive/MyDrive/Research Experiments/ae/autoencoder_best_model.pth'\n",
        "  tab_data = '/content/drive/MyDrive/Research Experiments/data/df_with_voxel_stats_and_latent_features.csv'\n",
        "  seed = 42\n",
        "    \n",
        "def seed_everything(seed: int):\n",
        "  tf.random.set_seed(seed)\n",
        "    \n",
        "config = GlobalConfig()\n",
        "seed_everything(config.seed)"
      ],
      "metadata": {
        "id": "qXAyn4tEPr72"
      },
      "execution_count": 7,
      "outputs": []
    },
    {
      "cell_type": "code",
      "source": [
        "import os"
      ],
      "metadata": {
        "id": "kBrYvQjsnSj7"
      },
      "execution_count": 8,
      "outputs": []
    },
    {
      "cell_type": "code",
      "source": [
        "train_data = len(os.listdir(\"/content/drive/MyDrive/Research Experiments/Training\"))\n",
        "train_data"
      ],
      "metadata": {
        "id": "rqsyceSLPr32",
        "colab": {
          "base_uri": "https://localhost:8080/"
        },
        "outputId": "4b970bf7-fa19-4947-ce45-674d123e9ba3"
      },
      "execution_count": 9,
      "outputs": [
        {
          "output_type": "execute_result",
          "data": {
            "text/plain": [
              "1847"
            ]
          },
          "metadata": {},
          "execution_count": 9
        }
      ]
    },
    {
      "cell_type": "code",
      "source": [
        "test_data = len(os.listdir(\"/content/drive/MyDrive/Research Experiments/Validation\"))\n",
        "test_data"
      ],
      "metadata": {
        "id": "FKwjHLiRPryu",
        "colab": {
          "base_uri": "https://localhost:8080/"
        },
        "outputId": "a2afa2ea-8daf-48c7-ba46-2cf37d04aec5"
      },
      "execution_count": 10,
      "outputs": [
        {
          "output_type": "execute_result",
          "data": {
            "text/plain": [
              "502"
            ]
          },
          "metadata": {},
          "execution_count": 10
        }
      ]
    },
    {
      "cell_type": "markdown",
      "source": [
        "## Data Preprocessing\n",
        "\n"
      ],
      "metadata": {
        "id": "XE_vRfH7Prq-"
      }
    },
    {
      "cell_type": "code",
      "source": [
        "survival_info_df = pd.read_csv('/content/drive/MyDrive/Research Experiments/Training/survival_info.csv')\n",
        "name_mapping_df = pd.read_csv('/content/drive/MyDrive/Research Experiments/Training/name_mapping.csv')\n",
        "\n",
        "name_mapping_df.rename({'BraTS_2020_subject_ID': 'Brats20ID'}, axis=1, inplace=True)  # rename the first column of the name maping to BRATS20ID\n",
        "\n",
        "\n",
        "df = survival_info_df.merge(name_mapping_df, on=\"Brats20ID\", how=\"right\")  # merge the renamed column to the survival info dataframe\n",
        "\n",
        "print(df.columns)"
      ],
      "metadata": {
        "colab": {
          "base_uri": "https://localhost:8080/"
        },
        "id": "91nfbskTDkHl",
        "outputId": "a424f816-b94a-4ed6-fab8-714ead3e1206"
      },
      "execution_count": 11,
      "outputs": [
        {
          "output_type": "stream",
          "name": "stdout",
          "text": [
            "Index(['Brats20ID', 'Age', 'Survival_days', 'Extent_of_Resection', 'Grade',\n",
            "       'BraTS_2017_subject_ID', 'BraTS_2018_subject_ID',\n",
            "       'TCGA_TCIA_subject_ID', 'BraTS_2019_subject_ID'],\n",
            "      dtype='object')\n"
          ]
        }
      ]
    },
    {
      "cell_type": "code",
      "source": [
        "paths = []\n",
        "for _, row  in df.iterrows():\n",
        "    \n",
        "    id_ = row['Brats20ID']\n",
        "    phase = id_.split(\"_\")[-2]\n",
        "    \n",
        "    if phase == 'Training':\n",
        "        path = os.path.join(config.train_root_dir)\n",
        "    else:\n",
        "        path = os.path.join(config.test_root_dir)\n",
        "    paths.append(path)\n",
        "    \n",
        "df['path'] = paths\n",
        "\n",
        "print(df['path'])"
      ],
      "metadata": {
        "colab": {
          "base_uri": "https://localhost:8080/"
        },
        "id": "uJPogMwRJ3wv",
        "outputId": "dcd0ae78-4a31-48c7-d91b-9b31445a02e0"
      },
      "execution_count": 12,
      "outputs": [
        {
          "output_type": "stream",
          "name": "stdout",
          "text": [
            "0      /content/drive/MyDrive/Research Experiments/Tr...\n",
            "1      /content/drive/MyDrive/Research Experiments/Tr...\n",
            "2      /content/drive/MyDrive/Research Experiments/Tr...\n",
            "3      /content/drive/MyDrive/Research Experiments/Tr...\n",
            "4      /content/drive/MyDrive/Research Experiments/Tr...\n",
            "                             ...                        \n",
            "364    /content/drive/MyDrive/Research Experiments/Tr...\n",
            "365    /content/drive/MyDrive/Research Experiments/Tr...\n",
            "366    /content/drive/MyDrive/Research Experiments/Tr...\n",
            "367    /content/drive/MyDrive/Research Experiments/Tr...\n",
            "368    /content/drive/MyDrive/Research Experiments/Tr...\n",
            "Name: path, Length: 369, dtype: object\n"
          ]
        }
      ]
    },
    {
      "cell_type": "code",
      "source": [
        "train_data = df.loc[df['Age'].notnull()].reset_index(drop=True) # clean null values\n",
        "\n",
        "train_data[\"Age_rank\"] =  train_data[\"Age\"] // 10 * 10\n",
        "train_data = train_data.loc[train_data['Brats20ID'] != 'BraTS20_Training_355'].reset_index(drop=True)\n",
        "\n",
        "skf = StratifiedKFold(\n",
        "    n_splits=7, random_state=config.seed, shuffle=True\n",
        ")\n",
        "for i, (train_index, val_index) in enumerate(\n",
        "        skf.split(train_data, train_data[\"Age_rank\"])\n",
        "        ):\n",
        "        train_data.loc[val_index, \"fold\"] = i\n",
        "\n",
        "train_df = train_data.loc[train_data['fold'] != 0].reset_index(drop=True)\n",
        "val_df = train_data.loc[train_data['fold'] == 0].reset_index(drop=True)\n",
        "\n",
        "test_df = df.loc[~df['Age'].notnull()].reset_index(drop=True)\n",
        "print(\"train_df ->\", train_df.shape, \"val_df ->\", val_df.shape, \"test_df ->\", test_df.shape)\n",
        "train_data.to_csv(\"train_data.csv\", index=False)"
      ],
      "metadata": {
        "colab": {
          "base_uri": "https://localhost:8080/"
        },
        "id": "dHU3GYgLZP5g",
        "outputId": "3f3e329d-c117-4e7c-8c64-b548d7ca3a5b"
      },
      "execution_count": 13,
      "outputs": [
        {
          "output_type": "stream",
          "name": "stdout",
          "text": [
            "train_df -> (201, 12) val_df -> (34, 12) test_df -> (133, 10)\n"
          ]
        }
      ]
    },
    {
      "cell_type": "code",
      "source": [
        "X = train_df[\"Age\"]\n",
        "Y = train_df[\"Survival_days\"]\n",
        "Z = train_df[\"Extent_of_Resection\"].replace(['GTR', 'STR', 'NA'],\n",
        "                        [1, 2, 0], inplace=True)\n"
      ],
      "metadata": {
        "id": "ubVGvCf5U1ul"
      },
      "execution_count": 14,
      "outputs": []
    },
    {
      "cell_type": "code",
      "source": [
        "plt.scatter(X, Y)"
      ],
      "metadata": {
        "colab": {
          "base_uri": "https://localhost:8080/",
          "height": 282
        },
        "id": "jfwVk4C-VPHU",
        "outputId": "4593b302-7bd6-4fec-f369-c817188c683a"
      },
      "execution_count": 15,
      "outputs": [
        {
          "output_type": "execute_result",
          "data": {
            "text/plain": [
              "<matplotlib.collections.PathCollection at 0x7ff35b9e2850>"
            ]
          },
          "metadata": {},
          "execution_count": 15
        },
        {
          "output_type": "display_data",
          "data": {
            "image/png": "[encoded data removed]",
            "text/plain": [
              "<Figure size 432x288 with 1 Axes>"
            ]
          },
          "metadata": {
            "needs_background": "light"
          }
        }
      ]
    },
    {
      "cell_type": "code",
      "source": [
        "# plt.scatter(Y, Z)"
      ],
      "metadata": {
        "id": "dGk3hbw0vnAH"
      },
      "execution_count": 16,
      "outputs": []
    },
    {
      "cell_type": "code",
      "source": [
        "# plt.scatter(X, Y, Z)"
      ],
      "metadata": {
        "id": "ndBepG9CwivD"
      },
      "execution_count": 17,
      "outputs": []
    },
    {
      "cell_type": "markdown",
      "source": [
        "## Loading the Images\n"
      ],
      "metadata": {
        "id": "Q5v3ZRAYx85h"
      }
    },
    {
      "cell_type": "code",
      "source": [
        "class BratsDataset(Dataset):\n",
        "    def __init__(self, df: pd.DataFrame, phase: str=\"test\", is_resize: bool=False):\n",
        "        self.df = df\n",
        "        self.phase = phase\n",
        "        self.augmentations = get_augmentations(phase)\n",
        "        self.data_types = ['_flair.nii', '_t1.nii', '_t1ce.nii', '_t2.nii']\n",
        "        self.is_resize = is_resize\n",
        "        \n",
        "    def __len__(self):\n",
        "        return self.df.shape[0]\n",
        "    \n",
        "    def __getitem__(self, idx):\n",
        "        id_ = self.df.loc[idx, 'Brats20ID']\n",
        "        root_path = self.df.loc[self.df['Brats20ID'] == id_]['path'].values[0]\n",
        "        # load all modalities\n",
        "        images = []\n",
        "        for data_type in self.data_types:\n",
        "            img_path = os.path.join(root_path, id_ + data_type)\n",
        "            img = self.load_img(img_path)#.transpose(2, 0, 1)\n",
        "            \n",
        "            if self.is_resize:\n",
        "                img = self.resize(img)\n",
        "    \n",
        "            img = self.normalize(img)\n",
        "            images.append(img)\n",
        "        img = np.stack(images)\n",
        "        img = np.moveaxis(img, (0, 1, 2, 3), (0, 3, 2, 1))\n",
        "        \n",
        "        if self.phase != \"test\":\n",
        "            mask_path =  os.path.join(root_path, id_ + \"_seg.nii\")\n",
        "            mask = self.load_img(mask_path)\n",
        "            \n",
        "            if self.is_resize:\n",
        "                mask = self.resize(mask)\n",
        "                mask = np.clip(mask.astype(np.uint8), 0, 1).astype(np.float32)\n",
        "                mask = np.clip(mask, 0, 1)\n",
        "            mask = self.preprocess_mask_labels(mask)\n",
        "    \n",
        "            augmented = self.augmentations(image=img.astype(np.float32), \n",
        "                                           mask=mask.astype(np.float32))\n",
        "            \n",
        "            img = augmented['image']\n",
        "            mask = augmented['mask']\n",
        "    \n",
        "        \n",
        "            return {\n",
        "                \"Id\": id_,\n",
        "                \"image\": img,\n",
        "                \"mask\": mask,\n",
        "            }\n",
        "        \n",
        "        return {\n",
        "            \"Id\": id_,\n",
        "            \"image\": img,\n",
        "        }\n",
        "    \n",
        "    def load_img(self, file_path):\n",
        "        data = nib.load(file_path)\n",
        "        data = np.asarray(data.dataobj)\n",
        "        return data\n",
        "    \n",
        "    def normalize(self, data: np.ndarray):\n",
        "        data_min = np.min(data)\n",
        "        return (data - data_min) / (np.max(data) - data_min)\n",
        "    \n",
        "    def resize(self, data: np.ndarray):\n",
        "        data = resize(data, (78, 120, 120), preserve_range=True)\n",
        "        return data\n",
        "    \n",
        "    def preprocess_mask_labels(self, mask: np.ndarray):\n",
        "\n",
        "        mask_WT = mask.copy()\n",
        "        mask_WT[mask_WT == 1] = 1\n",
        "        mask_WT[mask_WT == 2] = 1\n",
        "        mask_WT[mask_WT == 4] = 1\n",
        "\n",
        "        mask_TC = mask.copy()\n",
        "        mask_TC[mask_TC == 1] = 1\n",
        "        mask_TC[mask_TC == 2] = 0\n",
        "        mask_TC[mask_TC == 4] = 1\n",
        "\n",
        "        mask_ET = mask.copy()\n",
        "        mask_ET[mask_ET == 1] = 0\n",
        "        mask_ET[mask_ET == 2] = 0\n",
        "        mask_ET[mask_ET == 4] = 1\n",
        "\n",
        "        mask = np.stack([mask_WT, mask_TC, mask_ET])\n",
        "        mask = np.moveaxis(mask, (0, 1, 2, 3), (0, 3, 2, 1))\n",
        "\n",
        "        return mask\n",
        "\n",
        "def get_augmentations(phase):\n",
        "    list_transforms = []\n",
        "    \n",
        "    list_trfms = Compose(list_transforms)\n",
        "    return list_trfms\n",
        "\n",
        "\n",
        "def get_dataloader(\n",
        "    dataset: tf.data.Dataset,\n",
        "    path_to_csv: str,\n",
        "    phase: str,\n",
        "    fold: int = 0,\n",
        "    batch_size: int = 1,\n",
        "    num_workers: int = 4,\n",
        "):\n",
        "    '''Returns: dataloader for the model training'''\n",
        "    df = pd.read_csv(path_to_csv)\n",
        "    \n",
        "    train_df = df.loc[df['fold'] != fold].reset_index(drop=True)\n",
        "    val_df = df.loc[df['fold'] == fold].reset_index(drop=True)\n",
        "\n",
        "    df = train_df if phase == \"train\" else val_df\n",
        "    dataset = dataset(df, phase)\n",
        "    dataloader = DataLoader(\n",
        "        dataset,\n",
        "        batch_size=batch_size,\n",
        "        num_workers=num_workers,\n",
        "        pin_memory=True,\n",
        "        shuffle=True,   \n",
        "    )\n",
        "    return dataloader"
      ],
      "metadata": {
        "id": "bvf9v3lix8OJ"
      },
      "execution_count": 18,
      "outputs": []
    },
    {
      "cell_type": "code",
      "source": [
        "dataloader = get_dataloader(dataset=BratsDataset, path_to_csv='./train_data.csv', phase='valid', fold=0)\n",
        "len(dataloader)"
      ],
      "metadata": {
        "colab": {
          "base_uri": "https://localhost:8080/"
        },
        "id": "q-eeuTD43vzB",
        "outputId": "69c51f70-9ee1-4839-ec33-1e77141044b6"
      },
      "execution_count": 19,
      "outputs": [
        {
          "output_type": "execute_result",
          "data": {
            "text/plain": [
              "34"
            ]
          },
          "metadata": {},
          "execution_count": 19
        }
      ]
    },
    {
      "cell_type": "code",
      "source": [
        "data = next(iter(dataloader))\n",
        "data['Id'], data['image'].shape, data['mask'].shape"
      ],
      "metadata": {
        "id": "mDxTRyxN31no"
      },
      "execution_count": null,
      "outputs": []
    },
    {
      "cell_type": "markdown",
      "source": [
        "# Metric and Loss"
      ],
      "metadata": {
        "id": "Z7aDtIYC9FS1"
      }
    },
    {
      "cell_type": "code",
      "source": [
        "import keras\n",
        "import keras.backend as K\n",
        "\n",
        "def DiceLoss(targets, inputs, smooth=1e-6):\n",
        "    \n",
        "    #flatten label and prediction tensors\n",
        "    inputs = K.flatten(inputs)\n",
        "    targets = K.flatten(targets)\n",
        "    \n",
        "    intersection = K.sum(K.dot(targets, inputs))\n",
        "    dice = (2*intersection + smooth) / (K.sum(targets) + K.sum(inputs) + smooth)\n",
        "    return 1 - dice"
      ],
      "metadata": {
        "id": "srnp4Ghb37zh"
      },
      "execution_count": null,
      "outputs": []
    },
    {
      "cell_type": "code",
      "source": [
        "def dice_coef_metric(probabilities: tf.Tensor,\n",
        "                     truth: tf.Tensor,\n",
        "                     treshold: float = 0.5,\n",
        "                     eps: float = 1e-9) -> np.ndarray:\n",
        "    \"\"\"\n",
        "    Calculate Dice score for data batch.\n",
        "    Params:\n",
        "        probobilities: model outputs after activation function.\n",
        "        truth: truth values.\n",
        "        threshold: threshold for probabilities.\n",
        "        eps: additive to refine the estimate.\n",
        "        Returns: dice score aka f1.\n",
        "    \"\"\"\n",
        "    scores = []\n",
        "    num = probabilities.shape[0]\n",
        "    predictions = (probabilities >= treshold).float()\n",
        "    assert(predictions.shape == truth.shape)\n",
        "    for i in range(num):\n",
        "        prediction = predictions[i]\n",
        "        truth_ = truth[i]\n",
        "        intersection = 2.0 * (truth_ * prediction).sum()\n",
        "        union = truth_.sum() + prediction.sum()\n",
        "        if truth_.sum() == 0 and prediction.sum() == 0:\n",
        "            scores.append(1.0)\n",
        "        else:\n",
        "            scores.append((intersection + eps) / union)\n",
        "    return np.mean(scores)\n",
        "\n",
        "\n",
        "def jaccard_coef_metric(probabilities: tf.Tensor,\n",
        "               truth: tf.Tensor,\n",
        "               treshold: float = 0.5,\n",
        "               eps: float = 1e-9) -> np.ndarray:\n",
        "    \"\"\"\n",
        "    Calculate Jaccard index for data batch.\n",
        "    Params:\n",
        "        probobilities: model outputs after activation function.\n",
        "        truth: truth values.\n",
        "        threshold: threshold for probabilities.\n",
        "        eps: additive to refine the estimate.\n",
        "        Returns: jaccard score aka iou.\"\n",
        "    \"\"\"\n",
        "    scores = []\n",
        "    num = probabilities.shape[0]\n",
        "    predictions = (probabilities >= treshold).float()\n",
        "    assert(predictions.shape == truth.shape)\n",
        "\n",
        "    for i in range(num):\n",
        "        prediction = predictions[i]\n",
        "        truth_ = truth[i]\n",
        "        intersection = (prediction * truth_).sum()\n",
        "        union = (prediction.sum() + truth_.sum()) - intersection + eps\n",
        "        if truth_.sum() == 0 and prediction.sum() == 0:\n",
        "            scores.append(1.0)\n",
        "        else:\n",
        "            scores.append((intersection + eps) / union)\n",
        "    return np.mean(scores)\n",
        "\n",
        "\n",
        "class Meter:\n",
        "    '''factory for storing and updating iou and dice scores.'''\n",
        "    def __init__(self, treshold: float = 0.5):\n",
        "        self.threshold: float = treshold\n",
        "        self.dice_scores: list = []\n",
        "        self.iou_scores: list = []\n",
        "    \n",
        "    def update(self, logits: tf.Tensor, targets: tf.Tensor):\n",
        "        \"\"\"\n",
        "        Takes: logits from output model and targets,\n",
        "        calculates dice and iou scores, and stores them in lists.\n",
        "        \"\"\"\n",
        "        probs = torch.sigmoid(logits)\n",
        "        dice = dice_coef_metric(probs, targets, self.threshold)\n",
        "        iou = jaccard_coef_metric(probs, targets, self.threshold)\n",
        "        \n",
        "        self.dice_scores.append(dice)\n",
        "        self.iou_scores.append(iou)\n",
        "    \n",
        "    def get_metrics(self) -> np.ndarray:\n",
        "        \"\"\"\n",
        "        Returns: the average of the accumulated dice and iou scores.\n",
        "        \"\"\"\n",
        "        dice = np.mean(self.dice_scores)\n",
        "        iou = np.mean(self.iou_scores)\n",
        "        return dice, iou\n",
        "\n",
        "\n",
        "class DiceLoss(nn.Module):\n",
        "    \"\"\"Calculate dice loss.\"\"\"\n",
        "    def __init__(self, eps: float = 1e-9):\n",
        "        super(DiceLoss, self).__init__()\n",
        "        self.eps = eps\n",
        "        \n",
        "    def forward(self,\n",
        "                logits: torch.Tensor,\n",
        "                targets: torch.Tensor) -> torch.Tensor:\n",
        "        \n",
        "        num = targets.size(0)\n",
        "        probability = torch.sigmoid(logits)\n",
        "        probability = probability.view(num, -1)\n",
        "        targets = targets.view(num, -1)\n",
        "        assert(probability.shape == targets.shape)\n",
        "        \n",
        "        intersection = 2.0 * (probability * targets).sum()\n",
        "        union = probability.sum() + targets.sum()\n",
        "        dice_score = (intersection + self.eps) / union\n",
        "        #print(\"intersection\", intersection, union, dice_score)\n",
        "        return 1.0 - dice_score\n",
        "        \n",
        "        \n",
        "class BCEDiceLoss(nn.Module):\n",
        "    \"\"\"Compute objective loss: BCE loss + DICE loss.\"\"\"\n",
        "    def __init__(self):\n",
        "        super(BCEDiceLoss, self).__init__()\n",
        "        self.bce = nn.BCEWithLogitsLoss()\n",
        "        self.dice = DiceLoss()\n",
        "        \n",
        "    def forward(self, \n",
        "                logits: torch.Tensor,\n",
        "                targets: torch.Tensor) -> torch.Tensor:\n",
        "        assert(logits.shape == targets.shape)\n",
        "        dice_loss = self.dice(logits, targets)\n",
        "        bce_loss = self.bce(logits, targets)\n",
        "        \n",
        "        return bce_loss + dice_loss\n",
        "    \n",
        "# helper functions for testing.  \n",
        "def dice_coef_metric_per_classes(probabilities: np.ndarray,\n",
        "                                    truth: np.ndarray,\n",
        "                                    treshold: float = 0.5,\n",
        "                                    eps: float = 1e-9,\n",
        "                                    classes: list = ['WT', 'TC', 'ET']) -> np.ndarray:\n",
        "    \"\"\"\n",
        "    Calculate Dice score for data batch and for each class.\n",
        "    Params:\n",
        "        probobilities: model outputs after activation function.\n",
        "        truth: model targets.\n",
        "        threshold: threshold for probabilities.\n",
        "        eps: additive to refine the estimate.\n",
        "        classes: list with name classes.\n",
        "        Returns: dict with dice scores for each class.\n",
        "    \"\"\"\n",
        "    scores = {key: list() for key in classes}\n",
        "    num = probabilities.shape[0]\n",
        "    num_classes = probabilities.shape[1]\n",
        "    predictions = (probabilities >= treshold).astype(np.float32)\n",
        "    assert(predictions.shape == truth.shape)\n",
        "\n",
        "    for i in range(num):\n",
        "        for class_ in range(num_classes):\n",
        "            prediction = predictions[i][class_]\n",
        "            truth_ = truth[i][class_]\n",
        "            intersection = 2.0 * (truth_ * prediction).sum()\n",
        "            union = truth_.sum() + prediction.sum()\n",
        "            if truth_.sum() == 0 and prediction.sum() == 0:\n",
        "                 scores[classes[class_]].append(1.0)\n",
        "            else:\n",
        "                scores[classes[class_]].append((intersection + eps) / union)\n",
        "                \n",
        "    return scores\n",
        "\n",
        "\n",
        "def jaccard_coef_metric_per_classes(probabilities: np.ndarray,\n",
        "               truth: np.ndarray,\n",
        "               treshold: float = 0.5,\n",
        "               eps: float = 1e-9,\n",
        "               classes: list = ['WT', 'TC', 'ET']) -> np.ndarray:\n",
        "    \"\"\"\n",
        "    Calculate Jaccard index for data batch and for each class.\n",
        "    Params:\n",
        "        probobilities: model outputs after activation function.\n",
        "        truth: model targets.\n",
        "        threshold: threshold for probabilities.\n",
        "        eps: additive to refine the estimate.\n",
        "        classes: list with name classes.\n",
        "        Returns: dict with jaccard scores for each class.\"\n",
        "    \"\"\"\n",
        "    scores = {key: list() for key in classes}\n",
        "    num = probabilities.shape[0]\n",
        "    num_classes = probabilities.shape[1]\n",
        "    predictions = (probabilities >= treshold).astype(np.float32)\n",
        "    assert(predictions.shape == truth.shape)\n",
        "\n",
        "    for i in range(num):\n",
        "        for class_ in range(num_classes):\n",
        "            prediction = predictions[i][class_]\n",
        "            truth_ = truth[i][class_]\n",
        "            intersection = (prediction * truth_).sum()\n",
        "            union = (prediction.sum() + truth_.sum()) - intersection + eps\n",
        "            if truth_.sum() == 0 and prediction.sum() == 0:\n",
        "                 scores[classes[class_]].append(1.0)\n",
        "            else:\n",
        "                scores[classes[class_]].append((intersection + eps) / union)\n",
        "\n",
        "    return scores"
      ],
      "metadata": {
        "id": "5w6Q4OwW_ACe"
      },
      "execution_count": null,
      "outputs": []
    },
    {
      "cell_type": "code",
      "source": [
        "class DoubleConv(nn.Module):\n",
        "    \"\"\"(Conv3D -> BN -> ReLU) * 2\"\"\"\n",
        "    def __init__(self, in_channels, out_channels, num_groups=8):\n",
        "        super().__init__()\n",
        "        self.double_conv = nn.Sequential(\n",
        "            nn.Conv3d(in_channels, out_channels, kernel_size=3, stride=1, padding=1),\n",
        "            #nn.BatchNorm3d(out_channels),\n",
        "            nn.GroupNorm(num_groups=num_groups, num_channels=out_channels),\n",
        "            nn.ReLU(inplace=True),\n",
        "\n",
        "            nn.Conv3d(out_channels, out_channels, kernel_size=3, stride=1, padding=1),\n",
        "            #nn.BatchNorm3d(out_channels),\n",
        "            nn.GroupNorm(num_groups=num_groups, num_channels=out_channels),\n",
        "            nn.ReLU(inplace=True)\n",
        "          )\n",
        "\n",
        "    def forward(self,x):\n",
        "        return self.double_conv(x)\n",
        "\n",
        "    \n",
        "class Down(nn.Module):\n",
        "\n",
        "    def __init__(self, in_channels, out_channels):\n",
        "        super().__init__()\n",
        "        self.encoder = nn.Sequential(\n",
        "            nn.MaxPool3d(2, 2),\n",
        "            DoubleConv(in_channels, out_channels)\n",
        "        )\n",
        "    def forward(self, x):\n",
        "        return self.encoder(x)\n",
        "\n",
        "    \n",
        "class Up(nn.Module):\n",
        "\n",
        "    def __init__(self, in_channels, out_channels, trilinear=True):\n",
        "        super().__init__()\n",
        "        \n",
        "        if trilinear:\n",
        "            self.up = nn.Upsample(scale_factor=2, mode='trilinear', align_corners=True)\n",
        "        else:\n",
        "            self.up = nn.ConvTranspose3d(in_channels // 2, in_channels // 2, kernel_size=2, stride=2)\n",
        "            \n",
        "        self.conv = DoubleConv(in_channels, out_channels)\n",
        "\n",
        "    def forward(self, x1, x2):\n",
        "        x1 = self.up(x1)\n",
        "\n",
        "        diffZ = x2.size()[2] - x1.size()[2]\n",
        "        diffY = x2.size()[3] - x1.size()[3]\n",
        "        diffX = x2.size()[4] - x1.size()[4]\n",
        "        x1 = F.pad(x1, [diffX // 2, diffX - diffX // 2, diffY // 2, diffY - diffY // 2, diffZ // 2, diffZ - diffZ // 2])\n",
        "\n",
        "        x = torch.cat([x2, x1], dim=1)\n",
        "        return self.conv(x)\n",
        "\n",
        "    \n",
        "class Out(nn.Module):\n",
        "    def __init__(self, in_channels, out_channels):\n",
        "        super().__init__()\n",
        "        self.conv = nn.Conv3d(in_channels, out_channels, kernel_size = 1)\n",
        "\n",
        "    def forward(self, x):\n",
        "        return self.conv(x)\n",
        "\n",
        "\n",
        "class UNet3d(nn.Module):\n",
        "    def __init__(self, in_channels, n_classes, n_channels):\n",
        "        super().__init__()\n",
        "        self.in_channels = in_channels\n",
        "        self.n_classes = n_classes\n",
        "        self.n_channels = n_channels\n",
        "\n",
        "        self.conv = DoubleConv(in_channels, n_channels)\n",
        "        self.enc1 = Down(n_channels, 2 * n_channels)\n",
        "        self.enc2 = Down(2 * n_channels, 4 * n_channels)\n",
        "        self.enc3 = Down(4 * n_channels, 8 * n_channels)\n",
        "        self.enc4 = Down(8 * n_channels, 8 * n_channels)\n",
        "\n",
        "        self.dec1 = Up(16 * n_channels, 4 * n_channels)\n",
        "        self.dec2 = Up(8 * n_channels, 2 * n_channels)\n",
        "        self.dec3 = Up(4 * n_channels, n_channels)\n",
        "        self.dec4 = Up(2 * n_channels, n_channels)\n",
        "        self.out = Out(n_channels, n_classes)\n",
        "\n",
        "    def forward(self, x):\n",
        "        x1 = self.conv(x)\n",
        "        x2 = self.enc1(x1)\n",
        "        x3 = self.enc2(x2)\n",
        "        x4 = self.enc3(x3)\n",
        "        x5 = self.enc4(x4)\n",
        "\n",
        "        mask = self.dec1(x5, x4)\n",
        "        mask = self.dec2(mask, x3)\n",
        "        mask = self.dec3(mask, x2)\n",
        "        mask = self.dec4(mask, x1)\n",
        "        mask = self.out(mask)\n",
        "        return mask"
      ],
      "metadata": {
        "id": "TnPd7WHV_KVa"
      },
      "execution_count": null,
      "outputs": []
    },
    {
      "cell_type": "code",
      "source": [
        "class Trainer:\n",
        "    \"\"\"\n",
        "    Factory for training proccess.\n",
        "    Args:\n",
        "        display_plot: if True - plot train history after each epoch.\n",
        "        net: neural network for mask prediction.\n",
        "        criterion: factory for calculating objective loss.\n",
        "        optimizer: optimizer for weights updating.\n",
        "        phases: list with train and validation phases.\n",
        "        dataloaders: dict with data loaders for train and val phases.\n",
        "        path_to_csv: path to csv file.\n",
        "        meter: factory for storing and updating metrics.\n",
        "        batch_size: data batch size for one step weights updating.\n",
        "        num_epochs: num weights updation for all data.\n",
        "        accumulation_steps: the number of steps after which the optimization step can be taken\n",
        "                    (https://www.kaggle.com/c/understanding_cloud_organization/discussion/105614).\n",
        "        lr: learning rate for optimizer.\n",
        "        scheduler: scheduler for control learning rate.\n",
        "        losses: dict for storing lists with losses for each phase.\n",
        "        jaccard_scores: dict for storing lists with jaccard scores for each phase.\n",
        "        dice_scores: dict for storing lists with dice scores for each phase.\n",
        "    \"\"\"\n",
        "    def __init__(self,\n",
        "                 net: nn.Module,\n",
        "                 dataset: torch.utils.data.Dataset,\n",
        "                 criterion: nn.Module,\n",
        "                 lr: float,\n",
        "                 accumulation_steps: int,\n",
        "                 batch_size: int,\n",
        "                 fold: int,\n",
        "                 num_epochs: int,\n",
        "                 path_to_csv: str,\n",
        "                 display_plot: bool = True,\n",
        "                ):\n",
        "\n",
        "        \"\"\"Initialization.\"\"\"\n",
        "        self.device = 'cuda' if torch.cuda.is_available() else 'cpu'\n",
        "        print(\"device:\", self.device)\n",
        "        self.display_plot = display_plot\n",
        "        self.net = net\n",
        "        self.net = self.net.to(self.device)\n",
        "        self.criterion = criterion\n",
        "        self.optimizer = Adam(self.net.parameters(), lr=lr)\n",
        "        self.scheduler = ReduceLROnPlateau(self.optimizer, mode=\"min\",\n",
        "                                           patience=2, verbose=True)\n",
        "        self.accumulation_steps = accumulation_steps // batch_size\n",
        "        self.phases = [\"train\", \"val\"]\n",
        "        self.num_epochs = num_epochs\n",
        "\n",
        "        self.dataloaders = {\n",
        "            phase: get_dataloader(\n",
        "                dataset = dataset,\n",
        "                path_to_csv = path_to_csv,\n",
        "                phase = phase,\n",
        "                fold = fold,\n",
        "                batch_size = batch_size,\n",
        "                num_workers = 4\n",
        "            )\n",
        "            for phase in self.phases\n",
        "        }\n",
        "        self.best_loss = float(\"inf\")\n",
        "        self.losses = {phase: [] for phase in self.phases}\n",
        "        self.dice_scores = {phase: [] for phase in self.phases}\n",
        "        self.jaccard_scores = {phase: [] for phase in self.phases}\n",
        "         \n",
        "    def _compute_loss_and_outputs(self,\n",
        "                                  images: torch.Tensor,\n",
        "                                  targets: torch.Tensor):\n",
        "        images = images.to(self.device)\n",
        "        targets = targets.to(self.device)\n",
        "        logits = self.net(images)\n",
        "        loss = self.criterion(logits, targets)\n",
        "        return loss, logits\n",
        "        \n",
        "    def _do_epoch(self, epoch: int, phase: str):\n",
        "        print(f\"{phase} epoch: {epoch} | time: {time.strftime('%H:%M:%S')}\")\n",
        "\n",
        "        \n",
        "        if phase == \"train\":\n",
        "            self.net.train()\n",
        "        else:\n",
        "            with torch.no_grad():\n",
        "                self.net.eval()\n",
        "        \n",
        "        meter = Meter()\n",
        "        dataloader = self.dataloaders[phase]\n",
        "        total_batches = len(dataloader)\n",
        "        running_loss = 0.0\n",
        "        self.optimizer.zero_grad()\n",
        "        for itr, data_batch in enumerate(dataloader):\n",
        "            images, targets = data_batch['image'], data_batch['mask']\n",
        "            loss, logits = self._compute_loss_and_outputs(images, targets)\n",
        "            loss = loss / self.accumulation_steps\n",
        "            if phase == \"train\":\n",
        "                loss.backward()\n",
        "                if (itr + 1) % self.accumulation_steps == 0:\n",
        "                    self.optimizer.step()\n",
        "                    self.optimizer.zero_grad()\n",
        "            running_loss += loss.item()\n",
        "            meter.update(logits.detach().cpu(),\n",
        "                         targets.detach().cpu()\n",
        "                        )\n",
        "            \n",
        "        epoch_loss = (running_loss * self.accumulation_steps) / total_batches\n",
        "        epoch_dice, epoch_iou = meter.get_metrics()\n",
        "        \n",
        "        self.losses[phase].append(epoch_loss)\n",
        "        self.dice_scores[phase].append(epoch_dice)\n",
        "        self.jaccard_scores[phase].append(epoch_iou)\n",
        "\n",
        "        return epoch_loss\n",
        "        \n",
        "    def run(self):\n",
        "        for epoch in range(self.num_epochs):\n",
        "            self._do_epoch(epoch, \"train\")\n",
        "            with torch.no_grad():\n",
        "                val_loss = self._do_epoch(epoch, \"val\")\n",
        "                self.scheduler.step(val_loss)\n",
        "            if self.display_plot:\n",
        "                self._plot_train_history()\n",
        "                \n",
        "            if val_loss < self.best_loss:\n",
        "                print(f\"\\n{'#'*20}\\nSaved new checkpoint\\n{'#'*20}\\n\")\n",
        "                self.best_loss = val_loss\n",
        "                torch.save(self.net.state_dict(), \"best_model.pth\")\n",
        "            print()\n",
        "        self._save_train_history()\n",
        "            \n",
        "    def _plot_train_history(self):\n",
        "        data = [self.losses, self.dice_scores, self.jaccard_scores]\n",
        "        colors = ['deepskyblue', \"crimson\"]\n",
        "        labels = [\n",
        "            f\"\"\"\n",
        "            train loss {self.losses['train'][-1]}\n",
        "            val loss {self.losses['val'][-1]}\n",
        "            \"\"\",\n",
        "            \n",
        "            f\"\"\"\n",
        "            train dice score {self.dice_scores['train'][-1]}\n",
        "            val dice score {self.dice_scores['val'][-1]} \n",
        "            \"\"\", \n",
        "                  \n",
        "            f\"\"\"\n",
        "            train jaccard score {self.jaccard_scores['train'][-1]}\n",
        "            val jaccard score {self.jaccard_scores['val'][-1]}\n",
        "            \"\"\",\n",
        "        ]\n",
        "        \n",
        "        clear_output(True)\n",
        "        with plt.style.context(\"seaborn-dark-palette\"):\n",
        "            fig, axes = plt.subplots(3, 1, figsize=(8, 10))\n",
        "            for i, ax in enumerate(axes):\n",
        "                ax.plot(data[i]['val'], c=colors[0], label=\"val\")\n",
        "                ax.plot(data[i]['train'], c=colors[-1], label=\"train\")\n",
        "                ax.set_title(labels[i])\n",
        "                ax.legend(loc=\"upper right\")\n",
        "                \n",
        "            plt.tight_layout()\n",
        "            plt.show()\n",
        "            \n",
        "    def load_predtrain_model(self,\n",
        "                             state_path: str):\n",
        "        self.net.load_state_dict(torch.load(state_path, map_location=torch.device('cpu')))\n",
        "        print(\"Predtrain model loaded\")\n",
        "        \n",
        "    def _save_train_history(self):\n",
        "        \"\"\"writing model weights and training logs to files.\"\"\"\n",
        "        torch.save(self.net.state_dict(),\n",
        "                   f\"last_epoch_model.pth\")\n",
        "\n",
        "        logs_ = [self.losses, self.dice_scores, self.jaccard_scores]\n",
        "        log_names_ = [\"_loss\", \"_dice\", \"_jaccard\"]\n",
        "        logs = [logs_[i][key] for i in list(range(len(logs_)))\n",
        "                         for key in logs_[i]]\n",
        "        log_names = [key+log_names_[i] \n",
        "                     for i in list(range(len(logs_))) \n",
        "                     for key in logs_[i]\n",
        "                    ]\n",
        "        pd.DataFrame(\n",
        "            dict(zip(log_names, logs))\n",
        "        ).to_csv(\"train_log.csv\", index=False)"
      ],
      "metadata": {
        "id": "dpfAqx1a_SXw"
      },
      "execution_count": null,
      "outputs": []
    }
  ]
}