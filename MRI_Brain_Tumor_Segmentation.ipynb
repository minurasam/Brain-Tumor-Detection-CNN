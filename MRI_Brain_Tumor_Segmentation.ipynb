{
  "nbformat": 4,
  "nbformat_minor": 0,
  "metadata": {
    "accelerator": "TPU",
    "colab": {
      "name": "MRI Brain Tumor Segmentation.ipynb",
      "provenance": [],
      "collapsed_sections": [],
      "machine_shape": "hm",
      "include_colab_link": true
    },
    "kernelspec": {
      "display_name": "Python 3",
      "language": "python",
      "name": "python3"
    },
    "language_info": {
      "codemirror_mode": {
        "name": "ipython",
        "version": 3
      },
      "file_extension": ".py",
      "mimetype": "text/x-python",
      "name": "python",
      "nbconvert_exporter": "python",
      "pygments_lexer": "ipython3",
      "version": "3.6.4"
    }
  },
  "cells": [
    {
      "cell_type": "markdown",
      "metadata": {
        "id": "view-in-github",
        "colab_type": "text"
      },
      "source": [
        "<a href=\"https://colab.research.google.com/github/minurasam/Brain-Tumor-Detection-CNN/blob/main/MRI_Brain_Tumor_Segmentation.ipynb\" target=\"_parent\"><img src=\"https://colab.research.google.com/assets/colab-badge.svg\" alt=\"Open In Colab\"/></a>"
      ]
    },
    {
      "cell_type": "markdown",
      "metadata": {
        "id": "qcKIWfPPcfCc"
      },
      "source": [
        "# Data\n",
        "\n",
        "All BraTS multimodal scans are available as NIfTI files (.nii.gz) and describe a) native (T1) and b) post-contrast T1-weighted (T1Gd), c) T2-weighted (T2), and d) T2 Fluid Attenuated Inversion Recovery (T2-FLAIR) volumes.\n",
        "\n",
        "\n",
        "For automatic segmentation we will use Unet3d\n",
        "<!-- + 2. To predict the age and number of days of survival: first, we will train the auto-encoder to scale the space from 4 * 240 * 240 * 150 to 512, and then extract the statistical values, ​​and hidden representations for each identifier in the data encoded by the pre-trained auto-encoder and based on this tabular data we will train SVR. -->\n"
      ]
    },
    {
      "cell_type": "code",
      "metadata": {
        "colab": {
          "base_uri": "https://localhost:8080/"
        },
        "id": "Vflezw8bf8MD",
        "outputId": "0b4310db-69ab-4f3d-9982-e85604182547"
      },
      "source": [
        "from google.colab import drive\n",
        "drive.mount('/content/drive')"
      ],
      "execution_count": 1,
      "outputs": [
        {
          "output_type": "stream",
          "name": "stdout",
          "text": [
            "Mounted at /content/drive\n"
          ]
        }
      ]
    },
    {
      "cell_type": "code",
      "metadata": {
        "colab": {
          "base_uri": "https://localhost:8080/"
        },
        "id": "OwAVXarJkgBf",
        "outputId": "3ea9de45-f5c8-413b-9428-ae4dc9a9af36"
      },
      "source": [
        "!pip install pydicom"
      ],
      "execution_count": 2,
      "outputs": [
        {
          "output_type": "stream",
          "name": "stdout",
          "text": [
            "Collecting pydicom\n",
            "  Downloading pydicom-2.2.2-py3-none-any.whl (2.0 MB)\n",
            "\u001b[K     |████████████████████████████████| 2.0 MB 5.0 MB/s \n",
            "\u001b[?25hInstalling collected packages: pydicom\n",
            "Successfully installed pydicom-2.2.2\n"
          ]
        }
      ]
    },
    {
      "cell_type": "code",
      "metadata": {
        "colab": {
          "base_uri": "https://localhost:8080/"
        },
        "id": "XJq_WYzhkrkH",
        "outputId": "e9183b47-3c8f-4bb6-8c19-c0389b6ad52f"
      },
      "source": [
        "!pip install nilearn"
      ],
      "execution_count": 3,
      "outputs": [
        {
          "output_type": "stream",
          "name": "stdout",
          "text": [
            "Collecting nilearn\n",
            "  Downloading nilearn-0.8.1-py3-none-any.whl (10.0 MB)\n",
            "\u001b[K     |████████████████████████████████| 10.0 MB 5.4 MB/s \n",
            "\u001b[?25hRequirement already satisfied: scikit-learn>=0.21 in /usr/local/lib/python3.7/dist-packages (from nilearn) (1.0.1)\n",
            "Requirement already satisfied: pandas>=0.24.0 in /usr/local/lib/python3.7/dist-packages (from nilearn) (1.1.5)\n",
            "Requirement already satisfied: scipy>=1.2 in /usr/local/lib/python3.7/dist-packages (from nilearn) (1.4.1)\n",
            "Requirement already satisfied: joblib>=0.12 in /usr/local/lib/python3.7/dist-packages (from nilearn) (1.1.0)\n",
            "Requirement already satisfied: requests>=2 in /usr/local/lib/python3.7/dist-packages (from nilearn) (2.23.0)\n",
            "Requirement already satisfied: numpy>=1.16 in /usr/local/lib/python3.7/dist-packages (from nilearn) (1.19.5)\n",
            "Requirement already satisfied: nibabel>=2.5 in /usr/local/lib/python3.7/dist-packages (from nilearn) (3.0.2)\n",
            "Requirement already satisfied: pytz>=2017.2 in /usr/local/lib/python3.7/dist-packages (from pandas>=0.24.0->nilearn) (2018.9)\n",
            "Requirement already satisfied: python-dateutil>=2.7.3 in /usr/local/lib/python3.7/dist-packages (from pandas>=0.24.0->nilearn) (2.8.2)\n",
            "Requirement already satisfied: six>=1.5 in /usr/local/lib/python3.7/dist-packages (from python-dateutil>=2.7.3->pandas>=0.24.0->nilearn) (1.15.0)\n",
            "Requirement already satisfied: certifi>=2017.4.17 in /usr/local/lib/python3.7/dist-packages (from requests>=2->nilearn) (2021.10.8)\n",
            "Requirement already satisfied: chardet<4,>=3.0.2 in /usr/local/lib/python3.7/dist-packages (from requests>=2->nilearn) (3.0.4)\n",
            "Requirement already satisfied: urllib3!=1.25.0,!=1.25.1,<1.26,>=1.21.1 in /usr/local/lib/python3.7/dist-packages (from requests>=2->nilearn) (1.24.3)\n",
            "Requirement already satisfied: idna<3,>=2.5 in /usr/local/lib/python3.7/dist-packages (from requests>=2->nilearn) (2.10)\n",
            "Requirement already satisfied: threadpoolctl>=2.0.0 in /usr/local/lib/python3.7/dist-packages (from scikit-learn>=0.21->nilearn) (3.0.0)\n",
            "Installing collected packages: nilearn\n",
            "Successfully installed nilearn-0.8.1\n"
          ]
        }
      ]
    },
    {
      "cell_type": "code",
      "metadata": {
        "colab": {
          "base_uri": "https://localhost:8080/"
        },
        "id": "qMD3apk1ldjy",
        "outputId": "3866daaa-68fd-4ce4-bc76-2f176205e288"
      },
      "source": [
        "!pip install albumentations==0.4.6"
      ],
      "execution_count": 4,
      "outputs": [
        {
          "output_type": "stream",
          "name": "stdout",
          "text": [
            "Collecting albumentations==0.4.6\n",
            "  Downloading albumentations-0.4.6.tar.gz (117 kB)\n",
            "\u001b[K     |████████████████████████████████| 117 kB 5.2 MB/s \n",
            "\u001b[?25hRequirement already satisfied: numpy>=1.11.1 in /usr/local/lib/python3.7/dist-packages (from albumentations==0.4.6) (1.19.5)\n",
            "Requirement already satisfied: scipy in /usr/local/lib/python3.7/dist-packages (from albumentations==0.4.6) (1.4.1)\n",
            "Collecting imgaug>=0.4.0\n",
            "  Downloading imgaug-0.4.0-py2.py3-none-any.whl (948 kB)\n",
            "\u001b[K     |████████████████████████████████| 948 kB 38.9 MB/s \n",
            "\u001b[?25hRequirement already satisfied: PyYAML in /usr/local/lib/python3.7/dist-packages (from albumentations==0.4.6) (3.13)\n",
            "Requirement already satisfied: opencv-python>=4.1.1 in /usr/local/lib/python3.7/dist-packages (from albumentations==0.4.6) (4.1.2.30)\n",
            "Requirement already satisfied: Pillow in /usr/local/lib/python3.7/dist-packages (from imgaug>=0.4.0->albumentations==0.4.6) (7.1.2)\n",
            "Requirement already satisfied: six in /usr/local/lib/python3.7/dist-packages (from imgaug>=0.4.0->albumentations==0.4.6) (1.15.0)\n",
            "Requirement already satisfied: Shapely in /usr/local/lib/python3.7/dist-packages (from imgaug>=0.4.0->albumentations==0.4.6) (1.8.0)\n",
            "Requirement already satisfied: scikit-image>=0.14.2 in /usr/local/lib/python3.7/dist-packages (from imgaug>=0.4.0->albumentations==0.4.6) (0.18.3)\n",
            "Requirement already satisfied: imageio in /usr/local/lib/python3.7/dist-packages (from imgaug>=0.4.0->albumentations==0.4.6) (2.4.1)\n",
            "Requirement already satisfied: matplotlib in /usr/local/lib/python3.7/dist-packages (from imgaug>=0.4.0->albumentations==0.4.6) (3.2.2)\n",
            "Requirement already satisfied: tifffile>=2019.7.26 in /usr/local/lib/python3.7/dist-packages (from scikit-image>=0.14.2->imgaug>=0.4.0->albumentations==0.4.6) (2021.11.2)\n",
            "Requirement already satisfied: PyWavelets>=1.1.1 in /usr/local/lib/python3.7/dist-packages (from scikit-image>=0.14.2->imgaug>=0.4.0->albumentations==0.4.6) (1.2.0)\n",
            "Requirement already satisfied: networkx>=2.0 in /usr/local/lib/python3.7/dist-packages (from scikit-image>=0.14.2->imgaug>=0.4.0->albumentations==0.4.6) (2.6.3)\n",
            "Requirement already satisfied: cycler>=0.10 in /usr/local/lib/python3.7/dist-packages (from matplotlib->imgaug>=0.4.0->albumentations==0.4.6) (0.11.0)\n",
            "Requirement already satisfied: python-dateutil>=2.1 in /usr/local/lib/python3.7/dist-packages (from matplotlib->imgaug>=0.4.0->albumentations==0.4.6) (2.8.2)\n",
            "Requirement already satisfied: pyparsing!=2.0.4,!=2.1.2,!=2.1.6,>=2.0.1 in /usr/local/lib/python3.7/dist-packages (from matplotlib->imgaug>=0.4.0->albumentations==0.4.6) (3.0.6)\n",
            "Requirement already satisfied: kiwisolver>=1.0.1 in /usr/local/lib/python3.7/dist-packages (from matplotlib->imgaug>=0.4.0->albumentations==0.4.6) (1.3.2)\n",
            "Building wheels for collected packages: albumentations\n",
            "  Building wheel for albumentations (setup.py) ... \u001b[?25l\u001b[?25hdone\n",
            "  Created wheel for albumentations: filename=albumentations-0.4.6-py3-none-any.whl size=65172 sha256=0d8db1ce6ec7aff7ed7423e1c37e4d15627b39d0cb05fab10f37cb29f297dbcf\n",
            "  Stored in directory: /root/.cache/pip/wheels/cf/34/0f/cb2a5f93561a181a4bcc84847ad6aaceea8b5a3127469616cc\n",
            "Successfully built albumentations\n",
            "Installing collected packages: imgaug, albumentations\n",
            "  Attempting uninstall: imgaug\n",
            "    Found existing installation: imgaug 0.2.9\n",
            "    Uninstalling imgaug-0.2.9:\n",
            "      Successfully uninstalled imgaug-0.2.9\n",
            "  Attempting uninstall: albumentations\n",
            "    Found existing installation: albumentations 0.1.12\n",
            "    Uninstalling albumentations-0.1.12:\n",
            "      Successfully uninstalled albumentations-0.1.12\n",
            "Successfully installed albumentations-0.4.6 imgaug-0.4.0\n"
          ]
        }
      ]
    },
    {
      "cell_type": "code",
      "metadata": {
        "colab": {
          "base_uri": "https://localhost:8080/"
        },
        "id": "Jo5zxoKgcfCi",
        "outputId": "b0fb1ac4-fa74-40a6-e30d-5eef548bddd3"
      },
      "source": [
        "from tqdm import tqdm\n",
        "import os\n",
        "import time\n",
        "import cv2\n",
        "from random import randint\n",
        "\n",
        "import numpy as np\n",
        "from scipy import stats\n",
        "import pandas as pd\n",
        "\n",
        "from sklearn.model_selection import train_test_split\n",
        "from sklearn.model_selection import StratifiedKFold\n",
        "from sklearn.preprocessing import StandardScaler\n",
        "from sklearn.svm import SVR\n",
        "from sklearn.model_selection import KFold\n",
        "\n",
        "import nibabel as nib\n",
        "import pydicom as pdm\n",
        "import nilearn as nl\n",
        "import nilearn.plotting as nlplt\n",
        "import h5py\n",
        "\n",
        "import matplotlib.pyplot as plt\n",
        "from matplotlib import cm\n",
        "import matplotlib.animation as anim\n",
        "import matplotlib.patches as mpatches\n",
        "import matplotlib.gridspec as gridspec\n",
        "\n",
        "import seaborn as sns\n",
        "import imageio\n",
        "from skimage.transform import resize\n",
        "from skimage.util import montage\n",
        "\n",
        "from IPython.display import Image as show_gif\n",
        "from IPython.display import clear_output\n",
        "from IPython.display import YouTubeVideo\n",
        "\n",
        "import torch\n",
        "import torch.nn as nn\n",
        "from torch.utils.data import Dataset, DataLoader\n",
        "import torch.nn.functional as F\n",
        "\n",
        "from torch.optim import Adam\n",
        "from torch.optim.lr_scheduler import ReduceLROnPlateau\n",
        "from torch.nn import MSELoss\n",
        "\n",
        "\n",
        "# import albumentations as A\n",
        "from albumentations import Compose, HorizontalFlip\n",
        "# from albumentations.pytorch import ToTensor, ToTensorV2 \n",
        "\n",
        "import warnings\n",
        "warnings.simplefilter(\"ignore\")"
      ],
      "execution_count": 5,
      "outputs": [
        {
          "output_type": "stream",
          "name": "stderr",
          "text": [
            "/usr/local/lib/python3.7/dist-packages/nilearn/datasets/__init__.py:96: FutureWarning: Fetchers from the nilearn.datasets module will be updated in version 0.9 to return python strings instead of bytes and Pandas dataframes instead of Numpy arrays.\n",
            "  \"Numpy arrays.\", FutureWarning)\n"
          ]
        }
      ]
    },
    {
      "cell_type": "code",
      "metadata": {
        "colab": {
          "base_uri": "https://localhost:8080/"
        },
        "id": "JPHzBZDAnB8O",
        "outputId": "e47eef00-86e9-4eea-fa20-c85ea0a679c6"
      },
      "source": [
        "sample_filename = '/content/drive/MyDrive/Research Experiments/Training/BraTS20_Training_001_flair.nii'\n",
        "sample_filename_mask = '/content/drive/MyDrive/Research Experiments/Training/BraTS20_Training_001_seg.nii'\n",
        "\n",
        "sample_img = nib.load(sample_filename)\n",
        "sample_img = np.asanyarray(sample_img.dataobj)\n",
        "sample_img = np.rot90(sample_img)\n",
        "sample_mask = nib.load(sample_filename_mask)\n",
        "sample_mask = np.asanyarray(sample_mask.dataobj)\n",
        "sample_mask = np.rot90(sample_mask)\n",
        "print(\"img shape ->\", sample_img.shape)\n",
        "print(\"mask shape ->\", sample_mask.shape)\n",
        "print(\"mask size ->\", sample_img.size)"
      ],
      "execution_count": 6,
      "outputs": [
        {
          "output_type": "stream",
          "name": "stdout",
          "text": [
            "img shape -> (240, 240, 155)\n",
            "mask shape -> (240, 240, 155)\n",
            "mask size -> 8928000\n"
          ]
        }
      ]
    },
    {
      "cell_type": "code",
      "metadata": {
        "colab": {
          "base_uri": "https://localhost:8080/"
        },
        "id": "9e0vjICRpqQB",
        "outputId": "8b88be77-5d3a-43ba-a793-43d6fbad60d4"
      },
      "source": [
        "!nvidia-smi"
      ],
      "execution_count": 7,
      "outputs": [
        {
          "output_type": "stream",
          "name": "stdout",
          "text": [
            "NVIDIA-SMI has failed because it couldn't communicate with the NVIDIA driver. Make sure that the latest NVIDIA driver is installed and running.\n",
            "\n"
          ]
        }
      ]
    },
    {
      "cell_type": "markdown",
      "metadata": {
        "id": "OXpG5PaIpp_D"
      },
      "source": [
        ""
      ]
    },
    {
      "cell_type": "code",
      "metadata": {
        "id": "rzsHmdX0cfCl"
      },
      "source": [
        "sample_filename2 = '/content/drive/MyDrive/Research Experiments/Training/BraTS20_Training_001_t1.nii'\n",
        "sample_img2 = nib.load(sample_filename2)\n",
        "sample_img2 = np.asanyarray(sample_img2.dataobj)\n",
        "sample_img2  = np.rot90(sample_img2)\n",
        "\n",
        "sample_filename3 = '/content/drive/MyDrive/Research Experiments/Training/BraTS20_Training_001_t2.nii'\n",
        "sample_img3 = nib.load(sample_filename3)\n",
        "sample_img3 = np.asanyarray(sample_img3.dataobj)\n",
        "sample_img3  = np.rot90(sample_img3)\n",
        "\n",
        "sample_filename4 = '/content/drive/MyDrive/Research Experiments/Training/BraTS20_Training_001_t1ce.nii'\n",
        "sample_img4 = nib.load(sample_filename4)\n",
        "sample_img4 = np.asanyarray(sample_img4.dataobj)\n",
        "sample_img4  = np.rot90(sample_img4)\n",
        "\n",
        "mask_WT = sample_mask.copy()\n",
        "mask_WT[mask_WT == 1] = 1\n",
        "mask_WT[mask_WT == 2] = 1\n",
        "mask_WT[mask_WT == 4] = 1\n",
        "\n",
        "mask_TC = sample_mask.copy()\n",
        "mask_TC[mask_TC == 1] = 1\n",
        "mask_TC[mask_TC == 2] = 0\n",
        "mask_TC[mask_TC == 4] = 1\n",
        "\n",
        "mask_ET = sample_mask.copy()\n",
        "mask_ET[mask_ET == 1] = 0\n",
        "mask_ET[mask_ET == 2] = 0\n",
        "mask_ET[mask_ET == 4] = 1"
      ],
      "execution_count": 8,
      "outputs": []
    },
    {
      "cell_type": "code",
      "metadata": {
        "colab": {
          "base_uri": "https://localhost:8080/"
        },
        "id": "_7vK261WqCkD",
        "outputId": "cd094d49-b84e-4850-ef16-6a7723da7601"
      },
      "source": [
        "!nvidia-smi"
      ],
      "execution_count": 9,
      "outputs": [
        {
          "output_type": "stream",
          "name": "stdout",
          "text": [
            "NVIDIA-SMI has failed because it couldn't communicate with the NVIDIA driver. Make sure that the latest NVIDIA driver is installed and running.\n",
            "\n"
          ]
        }
      ]
    },
    {
      "cell_type": "code",
      "metadata": {
        "id": "Gj5dooEkwgn5"
      },
      "source": [
        "img1 = sample_img[:,:,64]\n",
        "seg = sample_mask[:,:,65]\n",
        "img2 = sample_img2[:,:,65]\n",
        "img3 = sample_img3[:,:,65]\n",
        "img4 = sample_img4[:,:,65]\n",
        "f, axarr = plt.subplots(3,2, figsize=(50, 50))\n",
        "axarr[0,0].imshow(img1)\n",
        "axarr[0,1].imshow(img2)\n",
        "axarr[1,0].imshow(img3)\n",
        "axarr[1,1].imshow(img4)\n",
        "axarr[2,0].imshow(seg)"
      ],
      "execution_count": null,
      "outputs": []
    },
    {
      "cell_type": "code",
      "metadata": {
        "id": "5aQ3cxI3qGii"
      },
      "source": [
        "!nvidia-smi"
      ],
      "execution_count": null,
      "outputs": []
    },
    {
      "cell_type": "code",
      "metadata": {
        "id": "8LwrYfOnpCIG"
      },
      "source": [
        "# f, axarr = plt.subplots(16,10, figsize=(100, 200))\n",
        "# x=30\n",
        "# for i in range(16):\n",
        "#   for j in range(10):\n",
        "#     img = sample_img4[x,:,:]\n",
        "#     x=x+1\n",
        "#     axarr[i,j].imshow(img)\n",
        "#     if x==155:\n",
        "#       break\n"
      ],
      "execution_count": null,
      "outputs": []
    },
    {
      "cell_type": "markdown",
      "metadata": {
        "id": "8ToDguGkcfCn"
      },
      "source": [
        "### What's the data looks like ?"
      ]
    },
    {
      "cell_type": "code",
      "metadata": {
        "id": "1JcnspEgqIUy"
      },
      "source": [
        ""
      ],
      "execution_count": null,
      "outputs": []
    },
    {
      "cell_type": "code",
      "metadata": {
        "id": "FyC4rBSBcfCn"
      },
      "source": [
        "# https://matplotlib.org/3.3.2/gallery/images_contours_and_fields/plot_streamplot.html#sphx-glr-gallery-images-contours-and-fields-plot-streamplot-py\n",
        "# https://stackoverflow.com/questions/25482876/how-to-add-legend-to-imshow-in-matplotlib\n",
        "fig = plt.figure(figsize=(20, 10))\n",
        "\n",
        "gs = gridspec.GridSpec(nrows=2, ncols=4, height_ratios=[1, 1.5])\n",
        "\n",
        "#  Varying density along a streamline\n",
        "ax0 = fig.add_subplot(gs[0, 0])\n",
        "flair = ax0.imshow(sample_img[:,:,65], cmap='bone')\n",
        "ax0.set_title(\"FLAIR\", fontsize=18, weight='bold', y=-0.2)\n",
        "fig.colorbar(flair)\n",
        "\n",
        "#  Varying density along a streamline\n",
        "ax1 = fig.add_subplot(gs[0, 1])\n",
        "t1 = ax1.imshow(sample_img2[:,:,65], cmap='bone')\n",
        "ax1.set_title(\"T1\", fontsize=18, weight='bold', y=-0.2)\n",
        "fig.colorbar(t1)\n",
        "\n",
        "#  Varying density along a streamline\n",
        "ax2 = fig.add_subplot(gs[0, 2])\n",
        "t2 = ax2.imshow(sample_img3[:,:,65], cmap='bone')\n",
        "ax2.set_title(\"T2\", fontsize=18, weight='bold', y=-0.2)\n",
        "fig.colorbar(t2)\n",
        "\n",
        "#  Varying density along a streamline\n",
        "ax3 = fig.add_subplot(gs[0, 3])\n",
        "t1ce = ax3.imshow(sample_img4[:,:,65], cmap='bone')\n",
        "ax3.set_title(\"T1 contrast\", fontsize=18, weight='bold', y=-0.2)\n",
        "fig.colorbar(t1ce)\n",
        "\n",
        "#  Varying density along a streamline\n",
        "ax4 = fig.add_subplot(gs[1, 1:3])\n",
        "\n",
        "#ax4.imshow(np.ma.masked_where(mask_WT[:,:,65]== False,  mask_WT[:,:,65]), cmap='summer', alpha=0.6)\n",
        "l1 = ax4.imshow(mask_WT[:,:,65], cmap='summer',)\n",
        "l2 = ax4.imshow(np.ma.masked_where(mask_TC[:,:,65]== False,  mask_TC[:,:,65]), cmap='rainbow', alpha=0.6)\n",
        "l3 = ax4.imshow(np.ma.masked_where(mask_ET[:,:,65] == False, mask_ET[:,:,65]), cmap='winter', alpha=0.6)\n",
        "\n",
        "ax4.set_title(\"\", fontsize=20, weight='bold', y=-0.1)\n",
        "\n",
        "_ = [ax.set_axis_off() for ax in [ax0,ax1,ax2,ax3, ax4]]\n",
        "\n",
        "colors = [im.cmap(im.norm(1)) for im in [l1,l2, l3]]\n",
        "labels = ['Non-Enhancing tumor core', 'Peritumoral Edema ', 'GD-enhancing tumor']\n",
        "patches = [ mpatches.Patch(color=colors[i], label=f\"{labels[i]}\") for i in range(len(labels))]\n",
        "# put those patched as legend-handles into the legend\n",
        "plt.legend(handles=patches, bbox_to_anchor=(1.1, 0.65), loc=2, borderaxespad=0.4,fontsize = 'xx-large',\n",
        "           title='Mask Labels', title_fontsize=18, edgecolor=\"black\",  facecolor='#c5c6c7')\n",
        "\n",
        "plt.suptitle(\"Multimodal Scans -  Data | Manually-segmented mask - Target\", fontsize=20, weight='bold')\n",
        "\n",
        "fig.savefig(\"data_sample.png\", format=\"png\",  pad_inches=0.2, transparent=False, bbox_inches='tight')\n",
        "fig.savefig(\"data_sample.svg\", format=\"svg\",  pad_inches=0.2, transparent=False, bbox_inches='tight')"
      ],
      "execution_count": null,
      "outputs": []
    },
    {
      "cell_type": "code",
      "metadata": {
        "id": "HvpELaNtqJ0q"
      },
      "source": [
        "!nvidia-smi"
      ],
      "execution_count": null,
      "outputs": []
    },
    {
      "cell_type": "code",
      "metadata": {
        "id": "PtMsekN_cfCo"
      },
      "source": [
        "YouTubeVideo('nrmizEvG8aM', width=600, height=400)"
      ],
      "execution_count": null,
      "outputs": []
    },
    {
      "cell_type": "markdown",
      "metadata": {
        "id": "XIR-10qkcfCp"
      },
      "source": [
        "helper classes and functions"
      ]
    },
    {
      "cell_type": "code",
      "metadata": {
        "id": "XslWqUC_qMk6"
      },
      "source": [
        ""
      ],
      "execution_count": null,
      "outputs": []
    },
    {
      "cell_type": "code",
      "metadata": {
        "id": "V_L14rQ7cfCq"
      },
      "source": [
        "class Image3dToGIF3d:\n",
        "    \"\"\"\n",
        "    Displaying 3D images in 3d axes.\n",
        "    Parameters:\n",
        "        img_dim: shape of cube for resizing.\n",
        "        figsize: figure size for plotting in inches.\n",
        "    \"\"\"\n",
        "    def __init__(self, \n",
        "                 img_dim: tuple = (55, 55, 55),\n",
        "                 figsize: tuple = (15, 10),\n",
        "                 binary: bool = False,\n",
        "                 normalizing: bool = True,\n",
        "                ):\n",
        "        \"\"\"Initialization.\"\"\"\n",
        "        self.img_dim = img_dim\n",
        "        print(img_dim)\n",
        "        self.figsize = figsize\n",
        "        self.binary = binary\n",
        "        self.normalizing = normalizing\n",
        "\n",
        "    def _explode(self, data: np.ndarray):\n",
        "        \"\"\"\n",
        "        Takes: array and return an array twice as large in each dimension,\n",
        "        with an extra space between each voxel.\n",
        "        \"\"\"\n",
        "        shape_arr = np.array(data.shape)\n",
        "        size = shape_arr[:3] * 2 - 1\n",
        "        exploded = np.zeros(np.concatenate([size, shape_arr[3:]]),\n",
        "                            dtype=data.dtype)\n",
        "        exploded[::2, ::2, ::2] = data\n",
        "        return exploded\n",
        "\n",
        "    def _expand_coordinates(self, indices: np.ndarray):\n",
        "        x, y, z = indices\n",
        "        x[1::2, :, :] += 1\n",
        "        y[:, 1::2, :] += 1\n",
        "        z[:, :, 1::2] += 1\n",
        "        return x, y, z\n",
        "    \n",
        "    def _normalize(self, arr: np.ndarray):\n",
        "        \"\"\"Normilize image value between 0 and 1.\"\"\"\n",
        "        arr_min = np.min(arr)\n",
        "        return (arr - arr_min) / (np.max(arr) - arr_min)\n",
        "\n",
        "    \n",
        "    def _scale_by(self, arr: np.ndarray, factor: int):\n",
        "        \"\"\"\n",
        "        Scale 3d Image to factor.\n",
        "        Parameters:\n",
        "            arr: 3d image for scalling.\n",
        "            factor: factor for scalling.\n",
        "        \"\"\"\n",
        "        mean = np.mean(arr)\n",
        "        return (arr - mean) * factor + mean\n",
        "    \n",
        "    def get_transformed_data(self, data: np.ndarray):\n",
        "        \"\"\"Data transformation: normalization, scaling, resizing.\"\"\"\n",
        "        if self.binary:\n",
        "            resized_data = resize(data, self.img_dim, preserve_range=True)\n",
        "            return np.clip(resized_data.astype(np.uint8), 0, 1).astype(np.float32)\n",
        "            \n",
        "        norm_data = np.clip(self._normalize(data)-0.1, 0, 1) ** 0.4\n",
        "        scaled_data = np.clip(self._scale_by(norm_data, 2) - 0.1, 0, 1)\n",
        "        resized_data = resize(scaled_data, self.img_dim, preserve_range=True)\n",
        "        \n",
        "        return resized_data\n",
        "    \n",
        "    def plot_cube(self,\n",
        "                  cube,\n",
        "                  title: str = '', \n",
        "                  init_angle: int = 0,\n",
        "                  make_gif: bool = False,\n",
        "                  path_to_save: str = 'filename.gif'\n",
        "                 ):\n",
        "        \"\"\"\n",
        "        Plot 3d data.\n",
        "        Parameters:\n",
        "            cube: 3d data\n",
        "            title: title for figure.\n",
        "            init_angle: angle for image plot (from 0-360).\n",
        "            make_gif: if True create gif from every 5th frames from 3d image plot.\n",
        "            path_to_save: path to save GIF file.\n",
        "            \"\"\"\n",
        "        if self.binary:\n",
        "            facecolors = cm.winter(cube)\n",
        "            print(\"binary\")\n",
        "        else:\n",
        "            if self.normalizing:\n",
        "                cube = self._normalize(cube)\n",
        "            facecolors = cm.gist_stern(cube)\n",
        "            print(\"not binary\")\n",
        "            \n",
        "        facecolors[:,:,:,-1] = cube\n",
        "        facecolors = self._explode(facecolors)\n",
        "\n",
        "        filled = facecolors[:,:,:,-1] != 0\n",
        "        x, y, z = self._expand_coordinates(np.indices(np.array(filled.shape) + 1))\n",
        "\n",
        "        with plt.style.context(\"dark_background\"):\n",
        "\n",
        "            fig = plt.figure(figsize=self.figsize)\n",
        "            ax = fig.gca(projection='3d')\n",
        "\n",
        "            ax.view_init(30, init_angle)\n",
        "            ax.set_xlim(right = self.img_dim[0] * 2)\n",
        "            ax.set_ylim(top = self.img_dim[1] * 2)\n",
        "            ax.set_zlim(top = self.img_dim[2] * 2)\n",
        "            ax.set_title(title, fontsize=18, y=1.05)\n",
        "\n",
        "            ax.voxels(x, y, z, filled, facecolors=facecolors, shade=False)\n",
        "\n",
        "            if make_gif:\n",
        "                images = []\n",
        "                for angle in tqdm(range(0, 360, 5)):\n",
        "                    ax.view_init(30, angle)\n",
        "                    fname = str(angle) + '.png'\n",
        "\n",
        "                    plt.savefig(fname, dpi=120, format='png', bbox_inches='tight')\n",
        "                    images.append(imageio.imread(fname))\n",
        "                    #os.remove(fname)\n",
        "                imageio.mimsave(path_to_save, images)\n",
        "                plt.close()\n",
        "\n",
        "            else:\n",
        "                plt.show()\n",
        "\n",
        "                \n",
        "class ShowResult:\n",
        "  \n",
        "    def mask_preprocessing(self, mask):\n",
        "        \"\"\"\n",
        "        Test.\n",
        "        \"\"\"\n",
        "        mask = mask.squeeze().cpu().detach().numpy()\n",
        "        mask = np.moveaxis(mask, (0, 1, 2, 3), (0, 3, 2, 1))\n",
        "\n",
        "        mask_WT = np.rot90(montage(mask[0]))\n",
        "        mask_TC = np.rot90(montage(mask[1]))\n",
        "        mask_ET = np.rot90(montage(mask[2]))\n",
        "\n",
        "        return mask_WT, mask_TC, mask_ET\n",
        "\n",
        "    def image_preprocessing(self, image):\n",
        "        \"\"\"\n",
        "        Returns image flair as mask for overlaping gt and predictions.\n",
        "        \"\"\"\n",
        "        image = image.squeeze().cpu().detach().numpy()\n",
        "        image = np.moveaxis(image, (0, 1, 2, 3), (0, 3, 2, 1))\n",
        "        flair_img = np.rot90(montage(image[0]))\n",
        "        return flair_img\n",
        "    \n",
        "    def plot(self, image, ground_truth, prediction):\n",
        "        image = self.image_preprocessing(image)\n",
        "        gt_mask_WT, gt_mask_TC, gt_mask_ET = self.mask_preprocessing(ground_truth)\n",
        "        pr_mask_WT, pr_mask_TC, pr_mask_ET = self.mask_preprocessing(prediction)\n",
        "        \n",
        "        fig, axes = plt.subplots(1, 2, figsize = (35, 30))\n",
        "    \n",
        "        [ax.axis(\"off\") for ax in axes]\n",
        "        axes[0].set_title(\"Ground Truth\", fontsize=35, weight='bold')\n",
        "        axes[0].imshow(image, cmap ='bone')\n",
        "        axes[0].imshow(np.ma.masked_where(gt_mask_WT == False, gt_mask_WT),\n",
        "                  cmap='cool_r', alpha=0.6)\n",
        "        axes[0].imshow(np.ma.masked_where(gt_mask_TC == False, gt_mask_TC),\n",
        "                  cmap='autumn_r', alpha=0.6)\n",
        "        axes[0].imshow(np.ma.masked_where(gt_mask_ET == False, gt_mask_ET),\n",
        "                  cmap='autumn', alpha=0.6)\n",
        "\n",
        "        axes[1].set_title(\"Prediction\", fontsize=35, weight='bold')\n",
        "        axes[1].imshow(image, cmap ='bone')\n",
        "        axes[1].imshow(np.ma.masked_where(pr_mask_WT == False, pr_mask_WT),\n",
        "                  cmap='cool_r', alpha=0.6)\n",
        "        axes[1].imshow(np.ma.masked_where(pr_mask_TC == False, pr_mask_TC),\n",
        "                  cmap='autumn_r', alpha=0.6)\n",
        "        axes[1].imshow(np.ma.masked_where(pr_mask_ET == False, pr_mask_ET),\n",
        "                  cmap='autumn', alpha=0.6)\n",
        "\n",
        "        plt.tight_layout()\n",
        "        \n",
        "        plt.show()\n",
        "        \n",
        "#show_result = ShowResult()\n",
        "#show_result.plot(data['image'], data['mask'], data['mask'])\n",
        "\n",
        "\n",
        "def merging_two_gif(path1: str, path2: str, name_to_save: str):\n",
        "    \"\"\"\n",
        "    Merging GIFs side by side.\n",
        "    Parameters:\n",
        "        path1: path to gif with ground truth.\n",
        "        path2: path to gif with prediction.\n",
        "        name_to_save: name for saving new GIF.\n",
        "    \"\"\"\n",
        "    #https://stackoverflow.com/questions/51517685/combine-several-gif-horizontally-python\n",
        "    #Create reader object for the gif\n",
        "    gif1 = imageio.get_reader(path1)\n",
        "    gif2 = imageio.get_reader(path2)\n",
        "\n",
        "    #If they don't have the same number of frame take the shorter\n",
        "    number_of_frames = min(gif1.get_length(), gif2.get_length()) \n",
        "\n",
        "    #Create writer object\n",
        "    new_gif = imageio.get_writer(name_to_save)\n",
        "\n",
        "    for frame_number in range(number_of_frames):\n",
        "        img1 = gif1.get_next_data()\n",
        "        img2 = gif2.get_next_data()\n",
        "        #here is the magic\n",
        "        new_image = np.hstack((img1, img2))\n",
        "        new_gif.append_data(new_image)\n",
        "\n",
        "    gif1.close()\n",
        "    gif2.close()    \n",
        "    new_gif.close()\n",
        "    \n",
        "#merging_two_gif('BraTS20_Training_001_flair_3d.gif',\n",
        "#                'BraTS20_Training_001_flair_3d.gif', \n",
        "#                'result.gif')\n",
        "\n",
        "def get_all_csv_file(root: str) -> list:\n",
        "    \"\"\"Extraction all unique ids from file names.\"\"\"\n",
        "    ids = []\n",
        "    for dirname, _, filenames in os.walk(root):\n",
        "        for filename in filenames:\n",
        "            path = os.path.join(dirname, filename)\n",
        "            if path.endswith(\".csv\"):\n",
        "                ids.append(path) \n",
        "    ids = list(set(filter(None, ids)))\n",
        "    print(f\"Extracted {len(ids)} csv files.\")\n",
        "    return ids\n",
        "\n",
        "#csv_paths = get_all_csv_file(\"../input/brats20-dataset-training-validation/BraTS2020_TrainingData\")"
      ],
      "execution_count": null,
      "outputs": []
    },
    {
      "cell_type": "code",
      "metadata": {
        "id": "9JegqrZjqOFr"
      },
      "source": [
        "!nvidia-smi"
      ],
      "execution_count": null,
      "outputs": []
    },
    {
      "cell_type": "code",
      "metadata": {
        "id": "kibgJQ5acfCu"
      },
      "source": [
        "class GlobalConfig:\n",
        "    root_dir = '/content/drive/MyDrive/Research Experiments/'\n",
        "    train_root_dir = '/content/drive/MyDrive/Research Experiments/Training/'\n",
        "    test_root_dir = '/content/drive/MyDrive/Research Experiments/Validation/'\n",
        "    path_to_csv = './train_data.csv'\n",
        "    pretrained_model_path = '/content/drive/MyDrive/Research Experiments/unet/last_epoch_model.pth'\n",
        "    train_logs_path = '/content/drive/MyDrive/Research Experiments/unet/train_log.csv'\n",
        "    ae_pretrained_model_path = '/content/drive/MyDrive/Research Experiments/ae/autoencoder_best_model.pth'\n",
        "    tab_data = '/content/drive/MyDrive/Research Experiments/data/df_with_voxel_stats_and_latent_features.csv'\n",
        "    seed = 55\n",
        "    \n",
        "def seed_everything(seed: int):\n",
        "    np.random.seed(seed)\n",
        "    torch.manual_seed(seed)\n",
        "    if torch.cuda.is_available():\n",
        "        torch.cuda.manual_seed(seed)\n",
        "    \n",
        "config = GlobalConfig()\n",
        "seed_everything(config.seed)"
      ],
      "execution_count": null,
      "outputs": []
    },
    {
      "cell_type": "markdown",
      "metadata": {
        "id": "XCx80AdtcfCx"
      },
      "source": [
        "Data Preprocessing"
      ]
    },
    {
      "cell_type": "code",
      "metadata": {
        "id": "xsXo9fI_cfCy"
      },
      "source": [
        "survival_info_df = pd.read_csv('/content/drive/MyDrive/Research Experiments/Training/survival_info.csv')\n",
        "name_mapping_df = pd.read_csv('/content/drive/MyDrive/Research Experiments/Training/name_mapping.csv')\n",
        "\n",
        "name_mapping_df.rename({'BraTS_2020_subject_ID': 'Brats20ID'}, axis=1, inplace=True) \n",
        "\n",
        "\n",
        "df = survival_info_df.merge(name_mapping_df, on=\"Brats20ID\", how=\"right\")\n",
        "\n",
        "paths = []\n",
        "for _, row  in df.iterrows():\n",
        "    \n",
        "    id_ = row['Brats20ID']\n",
        "    phase = id_.split(\"_\")[-2]\n",
        "    \n",
        "    if phase == 'Training':\n",
        "        path = os.path.join(config.train_root_dir)\n",
        "    else:\n",
        "        path = os.path.join(config.test_root_dir)\n",
        "    paths.append(path)\n",
        "    \n",
        "df['path'] = paths\n",
        "\n",
        "#split data on train, test, split\n",
        "#train_df, val_df = train_test_split(train_df, test_size=0.1, random_state=69, shuffle=True)\n",
        "#train_df, val_df = train_df.reset_index(drop=True), val_df.reset_index(drop=True)\n",
        "\n",
        "train_data = df.loc[df['Age'].notnull()].reset_index(drop=True)\n",
        "train_data[\"Age_rank\"] =  train_data[\"Age\"] // 10 * 10\n",
        "train_data = train_data.loc[train_data['Brats20ID'] != 'BraTS20_Training_355'].reset_index(drop=True, )\n",
        "\n",
        "skf = StratifiedKFold(\n",
        "    n_splits=7, random_state=config.seed, shuffle=True\n",
        ")\n",
        "for i, (train_index, val_index) in enumerate(\n",
        "        skf.split(train_data, train_data[\"Age_rank\"])\n",
        "        ):\n",
        "        train_data.loc[val_index, \"fold\"] = i\n",
        "\n",
        "train_df = train_data.loc[train_data['fold'] != 0].reset_index(drop=True)\n",
        "val_df = train_data.loc[train_data['fold'] == 0].reset_index(drop=True)\n",
        "\n",
        "test_df = df.loc[~df['Age'].notnull()].reset_index(drop=True)\n",
        "print(\"train_df ->\", train_df.shape, \"val_df ->\", val_df.shape, \"test_df ->\", test_df.shape)\n",
        "train_data.to_csv(\"train_data.csv\", index=False)"
      ],
      "execution_count": null,
      "outputs": []
    },
    {
      "cell_type": "markdown",
      "metadata": {
        "id": "A6qo_83ncfCy"
      },
      "source": [
        "# Dataset DataLoader"
      ]
    },
    {
      "cell_type": "code",
      "metadata": {
        "id": "qpyN-3oRqRai"
      },
      "source": [
        "!nvidia-smi"
      ],
      "execution_count": null,
      "outputs": []
    },
    {
      "cell_type": "code",
      "metadata": {
        "id": "mZBh9-PycfCz"
      },
      "source": [
        "class BratsDataset(Dataset):\n",
        "    def __init__(self, df: pd.DataFrame, phase: str=\"test\", is_resize: bool=False):\n",
        "        self.df = df\n",
        "        self.phase = phase\n",
        "        self.augmentations = get_augmentations(phase)\n",
        "        self.data_types = ['_flair.nii', '_t1.nii', '_t1ce.nii', '_t2.nii']\n",
        "        self.is_resize = is_resize\n",
        "        \n",
        "    def __len__(self):\n",
        "        return self.df.shape[0]\n",
        "    \n",
        "    def __getitem__(self, idx):\n",
        "        id_ = self.df.loc[idx, 'Brats20ID']\n",
        "        root_path = self.df.loc[self.df['Brats20ID'] == id_]['path'].values[0]\n",
        "        # load all modalities\n",
        "        images = []\n",
        "        for data_type in self.data_types:\n",
        "            img_path = os.path.join(root_path, id_ + data_type)\n",
        "            img = self.load_img(img_path)#.transpose(2, 0, 1)\n",
        "            \n",
        "            if self.is_resize:\n",
        "                img = self.resize(img)\n",
        "    \n",
        "            img = self.normalize(img)\n",
        "            images.append(img)\n",
        "        img = np.stack(images)\n",
        "        img = np.moveaxis(img, (0, 1, 2, 3), (0, 3, 2, 1))\n",
        "        \n",
        "        if self.phase != \"test\":\n",
        "            mask_path =  os.path.join(root_path, id_ + \"_seg.nii\")\n",
        "            mask = self.load_img(mask_path)\n",
        "            \n",
        "            if self.is_resize:\n",
        "                mask = self.resize(mask)\n",
        "                mask = np.clip(mask.astype(np.uint8), 0, 1).astype(np.float32)\n",
        "                mask = np.clip(mask, 0, 1)\n",
        "            mask = self.preprocess_mask_labels(mask)\n",
        "    \n",
        "            augmented = self.augmentations(image=img.astype(np.float32), \n",
        "                                           mask=mask.astype(np.float32))\n",
        "            \n",
        "            img = augmented['image']\n",
        "            mask = augmented['mask']\n",
        "    \n",
        "        \n",
        "            return {\n",
        "                \"Id\": id_,\n",
        "                \"image\": img,\n",
        "                \"mask\": mask,\n",
        "            }\n",
        "        \n",
        "        return {\n",
        "            \"Id\": id_,\n",
        "            \"image\": img,\n",
        "        }\n",
        "    \n",
        "    def load_img(self, file_path):\n",
        "        data = nib.load(file_path)\n",
        "        data = np.asarray(data.dataobj)\n",
        "        return data\n",
        "    \n",
        "    def normalize(self, data: np.ndarray):\n",
        "        data_min = np.min(data)\n",
        "        return (data - data_min) / (np.max(data) - data_min)\n",
        "    \n",
        "    def resize(self, data: np.ndarray):\n",
        "        data = resize(data, (78, 120, 120), preserve_range=True)\n",
        "        return data\n",
        "    \n",
        "    def preprocess_mask_labels(self, mask: np.ndarray):\n",
        "\n",
        "        mask_WT = mask.copy()\n",
        "        mask_WT[mask_WT == 1] = 1\n",
        "        mask_WT[mask_WT == 2] = 1\n",
        "        mask_WT[mask_WT == 4] = 1\n",
        "\n",
        "        mask_TC = mask.copy()\n",
        "        mask_TC[mask_TC == 1] = 1\n",
        "        mask_TC[mask_TC == 2] = 0\n",
        "        mask_TC[mask_TC == 4] = 1\n",
        "\n",
        "        mask_ET = mask.copy()\n",
        "        mask_ET[mask_ET == 1] = 0\n",
        "        mask_ET[mask_ET == 2] = 0\n",
        "        mask_ET[mask_ET == 4] = 1\n",
        "\n",
        "        mask = np.stack([mask_WT, mask_TC, mask_ET])\n",
        "        mask = np.moveaxis(mask, (0, 1, 2, 3), (0, 3, 2, 1))\n",
        "\n",
        "        return mask\n",
        "\n",
        "        "
      ],
      "execution_count": null,
      "outputs": []
    },
    {
      "cell_type": "code",
      "metadata": {
        "id": "_7e1OkBxqZf5"
      },
      "source": [
        "!nvidia-smi"
      ],
      "execution_count": null,
      "outputs": []
    },
    {
      "cell_type": "code",
      "metadata": {
        "id": "qbDYfrDucfC0"
      },
      "source": [
        "def get_augmentations(phase):\n",
        "    list_transforms = []\n",
        "    \n",
        "    list_trfms = Compose(list_transforms)\n",
        "    return list_trfms\n",
        "\n",
        "\n",
        "def get_dataloader(\n",
        "    dataset: torch.utils.data.Dataset,\n",
        "    path_to_csv: str,\n",
        "    phase: str,\n",
        "    fold: int = 0,\n",
        "    batch_size: int = 1,\n",
        "    num_workers: int = 4,\n",
        "):\n",
        "    '''Returns: dataloader for the model training'''\n",
        "    df = pd.read_csv(path_to_csv)\n",
        "    \n",
        "    train_df = df.loc[df['fold'] != fold].reset_index(drop=True)\n",
        "    val_df = df.loc[df['fold'] == fold].reset_index(drop=True)\n",
        "\n",
        "    df = train_df if phase == \"train\" else val_df\n",
        "    dataset = dataset(df, phase)\n",
        "    dataloader = DataLoader(\n",
        "        dataset,\n",
        "        batch_size=batch_size,\n",
        "        num_workers=num_workers,\n",
        "        pin_memory=True,\n",
        "        shuffle=True,   \n",
        "    )\n",
        "    return dataloader"
      ],
      "execution_count": null,
      "outputs": []
    },
    {
      "cell_type": "code",
      "metadata": {
        "id": "yhWrTSbUqbjx"
      },
      "source": [
        "!nvidia-smi"
      ],
      "execution_count": null,
      "outputs": []
    },
    {
      "cell_type": "code",
      "metadata": {
        "id": "T8QKXxHxcfC0"
      },
      "source": [
        "dataloader = get_dataloader(dataset=BratsDataset, path_to_csv='./train_data.csv', phase='valid', fold=0)\n",
        "len(dataloader)"
      ],
      "execution_count": null,
      "outputs": []
    },
    {
      "cell_type": "code",
      "metadata": {
        "id": "MlHhreQ9qeRz"
      },
      "source": [
        "!nvidia-smi"
      ],
      "execution_count": null,
      "outputs": []
    },
    {
      "cell_type": "code",
      "metadata": {
        "id": "KRs4qZ22cfC1"
      },
      "source": [
        "data = next(iter(dataloader))\n",
        "data['Id'], data['image'].shape, data['mask'].shape"
      ],
      "execution_count": null,
      "outputs": []
    },
    {
      "cell_type": "code",
      "metadata": {
        "id": "SeeDqzsPqhKo"
      },
      "source": [
        "!nvidia-smi"
      ],
      "execution_count": null,
      "outputs": []
    },
    {
      "cell_type": "code",
      "metadata": {
        "id": "xg9AmSwScfC1"
      },
      "source": [
        "img_tensor = data['image'].squeeze()[0].cpu().detach().numpy() \n",
        "mask_tensor = data['mask'].squeeze()[0].squeeze().cpu().detach().numpy()\n",
        "print(\"Num uniq Image values :\", len(np.unique(img_tensor, return_counts=True)[0]))\n",
        "print(\"Min/Max Image values:\", img_tensor.min(), img_tensor.max())\n",
        "print(\"Num uniq Mask values:\", np.unique(mask_tensor, return_counts=True))\n",
        "\n",
        "image = np.rot90(montage(img_tensor))\n",
        "mask = np.rot90(montage(mask_tensor)) \n",
        "\n",
        "fig, ax = plt.subplots(1, 1, figsize = (20, 20))\n",
        "ax.imshow(image, cmap ='bone')\n",
        "ax.imshow(np.ma.masked_where(mask == False, mask),\n",
        "           cmap='cool', alpha=0.6)"
      ],
      "execution_count": null,
      "outputs": []
    },
    {
      "cell_type": "markdown",
      "metadata": {
        "id": "Ifo9tNiXcfC2"
      },
      "source": [
        "# Metric and Loss"
      ]
    },
    {
      "cell_type": "code",
      "metadata": {
        "id": "gmHBY-Teqq7Z"
      },
      "source": [
        "!nvidia-smi"
      ],
      "execution_count": null,
      "outputs": []
    },
    {
      "cell_type": "code",
      "metadata": {
        "id": "DTfDjGIMcfC2"
      },
      "source": [
        "def dice_coef_metric(probabilities: torch.Tensor,\n",
        "                     truth: torch.Tensor,\n",
        "                     treshold: float = 0.5,\n",
        "                     eps: float = 1e-9) -> np.ndarray:\n",
        "    \"\"\"\n",
        "    Calculate Dice score for data batch.\n",
        "    Params:\n",
        "        probobilities: model outputs after activation function.\n",
        "        truth: truth values.\n",
        "        threshold: threshold for probabilities.\n",
        "        eps: additive to refine the estimate.\n",
        "        Returns: dice score aka f1.\n",
        "    \"\"\"\n",
        "    scores = []\n",
        "    num = probabilities.shape[0]\n",
        "    predictions = (probabilities >= treshold).float()\n",
        "    assert(predictions.shape == truth.shape)\n",
        "    for i in range(num):\n",
        "        prediction = predictions[i]\n",
        "        truth_ = truth[i]\n",
        "        intersection = 2.0 * (truth_ * prediction).sum()\n",
        "        union = truth_.sum() + prediction.sum()\n",
        "        if truth_.sum() == 0 and prediction.sum() == 0:\n",
        "            scores.append(1.0)\n",
        "        else:\n",
        "            scores.append((intersection + eps) / union)\n",
        "    return np.mean(scores)\n",
        "\n",
        "\n",
        "def jaccard_coef_metric(probabilities: torch.Tensor,\n",
        "               truth: torch.Tensor,\n",
        "               treshold: float = 0.5,\n",
        "               eps: float = 1e-9) -> np.ndarray:\n",
        "    \"\"\"\n",
        "    Calculate Jaccard index for data batch.\n",
        "    Params:\n",
        "        probobilities: model outputs after activation function.\n",
        "        truth: truth values.\n",
        "        threshold: threshold for probabilities.\n",
        "        eps: additive to refine the estimate.\n",
        "        Returns: jaccard score aka iou.\"\n",
        "    \"\"\"\n",
        "    scores = []\n",
        "    num = probabilities.shape[0]\n",
        "    predictions = (probabilities >= treshold).float()\n",
        "    assert(predictions.shape == truth.shape)\n",
        "\n",
        "    for i in range(num):\n",
        "        prediction = predictions[i]\n",
        "        truth_ = truth[i]\n",
        "        intersection = (prediction * truth_).sum()\n",
        "        union = (prediction.sum() + truth_.sum()) - intersection + eps\n",
        "        if truth_.sum() == 0 and prediction.sum() == 0:\n",
        "            scores.append(1.0)\n",
        "        else:\n",
        "            scores.append((intersection + eps) / union)\n",
        "    return np.mean(scores)\n",
        "\n",
        "\n",
        "class Meter:\n",
        "    '''factory for storing and updating iou and dice scores.'''\n",
        "    def __init__(self, treshold: float = 0.5):\n",
        "        self.threshold: float = treshold\n",
        "        self.dice_scores: list = []\n",
        "        self.iou_scores: list = []\n",
        "    \n",
        "    def update(self, logits: torch.Tensor, targets: torch.Tensor):\n",
        "        \"\"\"\n",
        "        Takes: logits from output model and targets,\n",
        "        calculates dice and iou scores, and stores them in lists.\n",
        "        \"\"\"\n",
        "        probs = torch.sigmoid(logits)\n",
        "        dice = dice_coef_metric(probs, targets, self.threshold)\n",
        "        iou = jaccard_coef_metric(probs, targets, self.threshold)\n",
        "        \n",
        "        self.dice_scores.append(dice)\n",
        "        self.iou_scores.append(iou)\n",
        "    \n",
        "    def get_metrics(self) -> np.ndarray:\n",
        "        \"\"\"\n",
        "        Returns: the average of the accumulated dice and iou scores.\n",
        "        \"\"\"\n",
        "        dice = np.mean(self.dice_scores)\n",
        "        iou = np.mean(self.iou_scores)\n",
        "        return dice, iou\n",
        "\n",
        "\n",
        "class DiceLoss(nn.Module):\n",
        "    \"\"\"Calculate dice loss.\"\"\"\n",
        "    def __init__(self, eps: float = 1e-9):\n",
        "        super(DiceLoss, self).__init__()\n",
        "        self.eps = eps\n",
        "        \n",
        "    def forward(self,\n",
        "                logits: torch.Tensor,\n",
        "                targets: torch.Tensor) -> torch.Tensor:\n",
        "        \n",
        "        num = targets.size(0)\n",
        "        probability = torch.sigmoid(logits)\n",
        "        probability = probability.view(num, -1)\n",
        "        targets = targets.view(num, -1)\n",
        "        assert(probability.shape == targets.shape)\n",
        "        \n",
        "        intersection = 2.0 * (probability * targets).sum()\n",
        "        union = probability.sum() + targets.sum()\n",
        "        dice_score = (intersection + self.eps) / union\n",
        "        #print(\"intersection\", intersection, union, dice_score)\n",
        "        return 1.0 - dice_score\n",
        "        \n",
        "        \n",
        "class BCEDiceLoss(nn.Module):\n",
        "    \"\"\"Compute objective loss: BCE loss + DICE loss.\"\"\"\n",
        "    def __init__(self):\n",
        "        super(BCEDiceLoss, self).__init__()\n",
        "        self.bce = nn.BCEWithLogitsLoss()\n",
        "        self.dice = DiceLoss()\n",
        "        \n",
        "    def forward(self, \n",
        "                logits: torch.Tensor,\n",
        "                targets: torch.Tensor) -> torch.Tensor:\n",
        "        assert(logits.shape == targets.shape)\n",
        "        dice_loss = self.dice(logits, targets)\n",
        "        bce_loss = self.bce(logits, targets)\n",
        "        \n",
        "        return bce_loss + dice_loss\n",
        "    \n",
        "# helper functions for testing.  \n",
        "def dice_coef_metric_per_classes(probabilities: np.ndarray,\n",
        "                                    truth: np.ndarray,\n",
        "                                    treshold: float = 0.5,\n",
        "                                    eps: float = 1e-9,\n",
        "                                    classes: list = ['WT', 'TC', 'ET']) -> np.ndarray:\n",
        "    \"\"\"\n",
        "    Calculate Dice score for data batch and for each class.\n",
        "    Params:\n",
        "        probobilities: model outputs after activation function.\n",
        "        truth: model targets.\n",
        "        threshold: threshold for probabilities.\n",
        "        eps: additive to refine the estimate.\n",
        "        classes: list with name classes.\n",
        "        Returns: dict with dice scores for each class.\n",
        "    \"\"\"\n",
        "    scores = {key: list() for key in classes}\n",
        "    num = probabilities.shape[0]\n",
        "    num_classes = probabilities.shape[1]\n",
        "    predictions = (probabilities >= treshold).astype(np.float32)\n",
        "    assert(predictions.shape == truth.shape)\n",
        "\n",
        "    for i in range(num):\n",
        "        for class_ in range(num_classes):\n",
        "            prediction = predictions[i][class_]\n",
        "            truth_ = truth[i][class_]\n",
        "            intersection = 2.0 * (truth_ * prediction).sum()\n",
        "            union = truth_.sum() + prediction.sum()\n",
        "            if truth_.sum() == 0 and prediction.sum() == 0:\n",
        "                 scores[classes[class_]].append(1.0)\n",
        "            else:\n",
        "                scores[classes[class_]].append((intersection + eps) / union)\n",
        "                \n",
        "    return scores\n",
        "\n",
        "\n",
        "def jaccard_coef_metric_per_classes(probabilities: np.ndarray,\n",
        "               truth: np.ndarray,\n",
        "               treshold: float = 0.5,\n",
        "               eps: float = 1e-9,\n",
        "               classes: list = ['WT', 'TC', 'ET']) -> np.ndarray:\n",
        "    \"\"\"\n",
        "    Calculate Jaccard index for data batch and for each class.\n",
        "    Params:\n",
        "        probobilities: model outputs after activation function.\n",
        "        truth: model targets.\n",
        "        threshold: threshold for probabilities.\n",
        "        eps: additive to refine the estimate.\n",
        "        classes: list with name classes.\n",
        "        Returns: dict with jaccard scores for each class.\"\n",
        "    \"\"\"\n",
        "    scores = {key: list() for key in classes}\n",
        "    num = probabilities.shape[0]\n",
        "    num_classes = probabilities.shape[1]\n",
        "    predictions = (probabilities >= treshold).astype(np.float32)\n",
        "    assert(predictions.shape == truth.shape)\n",
        "\n",
        "    for i in range(num):\n",
        "        for class_ in range(num_classes):\n",
        "            prediction = predictions[i][class_]\n",
        "            truth_ = truth[i][class_]\n",
        "            intersection = (prediction * truth_).sum()\n",
        "            union = (prediction.sum() + truth_.sum()) - intersection + eps\n",
        "            if truth_.sum() == 0 and prediction.sum() == 0:\n",
        "                 scores[classes[class_]].append(1.0)\n",
        "            else:\n",
        "                scores[classes[class_]].append((intersection + eps) / union)\n",
        "\n",
        "    return scores"
      ],
      "execution_count": null,
      "outputs": []
    },
    {
      "cell_type": "markdown",
      "metadata": {
        "id": "qxaNiD_6cfC5"
      },
      "source": [
        "# 3DUnet"
      ]
    },
    {
      "cell_type": "code",
      "metadata": {
        "id": "Hw9hw7k-rBxY"
      },
      "source": [
        "!nvidia-smi"
      ],
      "execution_count": null,
      "outputs": []
    },
    {
      "cell_type": "code",
      "metadata": {
        "id": "3DtFO0yCcfC5"
      },
      "source": [
        "class DoubleConv(nn.Module):\n",
        "    \"\"\"(Conv3D -> BN -> ReLU) * 2\"\"\"\n",
        "    def __init__(self, in_channels, out_channels, num_groups=8):\n",
        "        super().__init__()\n",
        "        self.double_conv = nn.Sequential(\n",
        "            nn.Conv3d(in_channels, out_channels, kernel_size=3, stride=1, padding=1),\n",
        "            #nn.BatchNorm3d(out_channels),\n",
        "            nn.GroupNorm(num_groups=num_groups, num_channels=out_channels),\n",
        "            nn.ReLU(inplace=True),\n",
        "\n",
        "            nn.Conv3d(out_channels, out_channels, kernel_size=3, stride=1, padding=1),\n",
        "            #nn.BatchNorm3d(out_channels),\n",
        "            nn.GroupNorm(num_groups=num_groups, num_channels=out_channels),\n",
        "            nn.ReLU(inplace=True)\n",
        "          )\n",
        "\n",
        "    def forward(self,x):\n",
        "        return self.double_conv(x)\n",
        "\n",
        "    \n",
        "class Down(nn.Module):\n",
        "\n",
        "    def __init__(self, in_channels, out_channels):\n",
        "        super().__init__()\n",
        "        self.encoder = nn.Sequential(\n",
        "            nn.MaxPool3d(2, 2),\n",
        "            DoubleConv(in_channels, out_channels)\n",
        "        )\n",
        "    def forward(self, x):\n",
        "        return self.encoder(x)\n",
        "\n",
        "    \n",
        "class Up(nn.Module):\n",
        "\n",
        "    def __init__(self, in_channels, out_channels, trilinear=True):\n",
        "        super().__init__()\n",
        "        \n",
        "        if trilinear:\n",
        "            self.up = nn.Upsample(scale_factor=2, mode='trilinear', align_corners=True)\n",
        "        else:\n",
        "            self.up = nn.ConvTranspose3d(in_channels // 2, in_channels // 2, kernel_size=2, stride=2)\n",
        "            \n",
        "        self.conv = DoubleConv(in_channels, out_channels)\n",
        "\n",
        "    def forward(self, x1, x2):\n",
        "        x1 = self.up(x1)\n",
        "\n",
        "        diffZ = x2.size()[2] - x1.size()[2]\n",
        "        diffY = x2.size()[3] - x1.size()[3]\n",
        "        diffX = x2.size()[4] - x1.size()[4]\n",
        "        x1 = F.pad(x1, [diffX // 2, diffX - diffX // 2, diffY // 2, diffY - diffY // 2, diffZ // 2, diffZ - diffZ // 2])\n",
        "\n",
        "        x = torch.cat([x2, x1], dim=1)\n",
        "        return self.conv(x)\n",
        "\n",
        "    \n",
        "class Out(nn.Module):\n",
        "    def __init__(self, in_channels, out_channels):\n",
        "        super().__init__()\n",
        "        self.conv = nn.Conv3d(in_channels, out_channels, kernel_size = 1)\n",
        "\n",
        "    def forward(self, x):\n",
        "        return self.conv(x)\n",
        "\n",
        "\n",
        "class UNet3d(nn.Module):\n",
        "    def __init__(self, in_channels, n_classes, n_channels):\n",
        "        super().__init__()\n",
        "        self.in_channels = in_channels\n",
        "        self.n_classes = n_classes\n",
        "        self.n_channels = n_channels\n",
        "\n",
        "        self.conv = DoubleConv(in_channels, n_channels)\n",
        "        self.enc1 = Down(n_channels, 2 * n_channels)\n",
        "        self.enc2 = Down(2 * n_channels, 4 * n_channels)\n",
        "        self.enc3 = Down(4 * n_channels, 8 * n_channels)\n",
        "        self.enc4 = Down(8 * n_channels, 8 * n_channels)\n",
        "\n",
        "        self.dec1 = Up(16 * n_channels, 4 * n_channels)\n",
        "        self.dec2 = Up(8 * n_channels, 2 * n_channels)\n",
        "        self.dec3 = Up(4 * n_channels, n_channels)\n",
        "        self.dec4 = Up(2 * n_channels, n_channels)\n",
        "        self.out = Out(n_channels, n_classes)\n",
        "\n",
        "    def forward(self, x):\n",
        "        x1 = self.conv(x)\n",
        "        x2 = self.enc1(x1)\n",
        "        x3 = self.enc2(x2)\n",
        "        x4 = self.enc3(x3)\n",
        "        x5 = self.enc4(x4)\n",
        "\n",
        "        mask = self.dec1(x5, x4)\n",
        "        mask = self.dec2(mask, x3)\n",
        "        mask = self.dec3(mask, x2)\n",
        "        mask = self.dec4(mask, x1)\n",
        "        mask = self.out(mask)\n",
        "        return mask"
      ],
      "execution_count": null,
      "outputs": []
    },
    {
      "cell_type": "code",
      "metadata": {
        "id": "vB456IFarERg"
      },
      "source": [
        "!nvidia-smi"
      ],
      "execution_count": null,
      "outputs": []
    },
    {
      "cell_type": "markdown",
      "metadata": {
        "id": "IUB8FK5hcfC6"
      },
      "source": [
        "# Trainer"
      ]
    },
    {
      "cell_type": "code",
      "metadata": {
        "id": "5ttzfo6_cfC6"
      },
      "source": [
        "class Trainer:\n",
        "    \"\"\"\n",
        "    Factory for training proccess.\n",
        "    Args:\n",
        "        display_plot: if True - plot train history after each epoch.\n",
        "        net: neural network for mask prediction.\n",
        "        criterion: factory for calculating objective loss.\n",
        "        optimizer: optimizer for weights updating.\n",
        "        phases: list with train and validation phases.\n",
        "        dataloaders: dict with data loaders for train and val phases.\n",
        "        path_to_csv: path to csv file.\n",
        "        meter: factory for storing and updating metrics.\n",
        "        batch_size: data batch size for one step weights updating.\n",
        "        num_epochs: num weights updation for all data.\n",
        "        accumulation_steps: the number of steps after which the optimization step can be taken\n",
        "                    (https://www.kaggle.com/c/understanding_cloud_organization/discussion/105614).\n",
        "        lr: learning rate for optimizer.\n",
        "        scheduler: scheduler for control learning rate.\n",
        "        losses: dict for storing lists with losses for each phase.\n",
        "        jaccard_scores: dict for storing lists with jaccard scores for each phase.\n",
        "        dice_scores: dict for storing lists with dice scores for each phase.\n",
        "    \"\"\"\n",
        "    def __init__(self,\n",
        "                 net: nn.Module,\n",
        "                 dataset: torch.utils.data.Dataset,\n",
        "                 criterion: nn.Module,\n",
        "                 lr: float,\n",
        "                 accumulation_steps: int,\n",
        "                 batch_size: int,\n",
        "                 fold: int,\n",
        "                 num_epochs: int,\n",
        "                 path_to_csv: str,\n",
        "                 display_plot: bool = True,\n",
        "                ):\n",
        "\n",
        "        \"\"\"Initialization.\"\"\"\n",
        "        self.device = 'cuda' if torch.cuda.is_available() else 'cpu'\n",
        "        print(\"device:\", self.device)\n",
        "        self.display_plot = display_plot\n",
        "        self.net = net\n",
        "        self.net = self.net.to(self.device)\n",
        "        self.criterion = criterion\n",
        "        self.optimizer = Adam(self.net.parameters(), lr=lr)\n",
        "        self.scheduler = ReduceLROnPlateau(self.optimizer, mode=\"min\",\n",
        "                                           patience=2, verbose=True)\n",
        "        self.accumulation_steps = accumulation_steps // batch_size\n",
        "        self.phases = [\"train\", \"val\"]\n",
        "        self.num_epochs = num_epochs\n",
        "\n",
        "        self.dataloaders = {\n",
        "            phase: get_dataloader(\n",
        "                dataset = dataset,\n",
        "                path_to_csv = path_to_csv,\n",
        "                phase = phase,\n",
        "                fold = fold,\n",
        "                batch_size = batch_size,\n",
        "                num_workers = 4\n",
        "            )\n",
        "            for phase in self.phases\n",
        "        }\n",
        "        self.best_loss = float(\"inf\")\n",
        "        self.losses = {phase: [] for phase in self.phases}\n",
        "        self.dice_scores = {phase: [] for phase in self.phases}\n",
        "        self.jaccard_scores = {phase: [] for phase in self.phases}\n",
        "         \n",
        "    def _compute_loss_and_outputs(self,\n",
        "                                  images: torch.Tensor,\n",
        "                                  targets: torch.Tensor):\n",
        "        images = images.to(self.device)\n",
        "        targets = targets.to(self.device)\n",
        "        logits = self.net(images)\n",
        "        loss = self.criterion(logits, targets)\n",
        "        return loss, logits\n",
        "        \n",
        "    def _do_epoch(self, epoch: int, phase: str):\n",
        "        print(f\"{phase} epoch: {epoch} | time: {time.strftime('%H:%M:%S')}\")\n",
        "\n",
        "        \n",
        "        if phase == \"train\":\n",
        "            self.net.train()\n",
        "        else:\n",
        "            with torch.no_grad():\n",
        "                self.net.eval()\n",
        "        \n",
        "        meter = Meter()\n",
        "        dataloader = self.dataloaders[phase]\n",
        "        total_batches = len(dataloader)\n",
        "        running_loss = 0.0\n",
        "        self.optimizer.zero_grad()\n",
        "        for itr, data_batch in enumerate(dataloader):\n",
        "            images, targets = data_batch['image'], data_batch['mask']\n",
        "            loss, logits = self._compute_loss_and_outputs(images, targets)\n",
        "            loss = loss / self.accumulation_steps\n",
        "            if phase == \"train\":\n",
        "                loss.backward()\n",
        "                if (itr + 1) % self.accumulation_steps == 0:\n",
        "                    self.optimizer.step()\n",
        "                    self.optimizer.zero_grad()\n",
        "            running_loss += loss.item()\n",
        "            meter.update(logits.detach().cpu(),\n",
        "                         targets.detach().cpu()\n",
        "                        )\n",
        "            \n",
        "        epoch_loss = (running_loss * self.accumulation_steps) / total_batches\n",
        "        epoch_dice, epoch_iou = meter.get_metrics()\n",
        "        \n",
        "        self.losses[phase].append(epoch_loss)\n",
        "        self.dice_scores[phase].append(epoch_dice)\n",
        "        self.jaccard_scores[phase].append(epoch_iou)\n",
        "\n",
        "        return epoch_loss\n",
        "        \n",
        "    def run(self):\n",
        "        for epoch in range(self.num_epochs):\n",
        "            self._do_epoch(epoch, \"train\")\n",
        "            with torch.no_grad():\n",
        "                val_loss = self._do_epoch(epoch, \"val\")\n",
        "                self.scheduler.step(val_loss)\n",
        "            if self.display_plot:\n",
        "                self._plot_train_history()\n",
        "                \n",
        "            if val_loss < self.best_loss:\n",
        "                print(f\"\\n{'#'*20}\\nSaved new checkpoint\\n{'#'*20}\\n\")\n",
        "                self.best_loss = val_loss\n",
        "                torch.save(self.net.state_dict(), \"best_model.pth\")\n",
        "            print()\n",
        "        self._save_train_history()\n",
        "            \n",
        "    def _plot_train_history(self):\n",
        "        data = [self.losses, self.dice_scores, self.jaccard_scores]\n",
        "        colors = ['deepskyblue', \"crimson\"]\n",
        "        labels = [\n",
        "            f\"\"\"\n",
        "            train loss {self.losses['train'][-1]}\n",
        "            val loss {self.losses['val'][-1]}\n",
        "            \"\"\",\n",
        "            \n",
        "            f\"\"\"\n",
        "            train dice score {self.dice_scores['train'][-1]}\n",
        "            val dice score {self.dice_scores['val'][-1]} \n",
        "            \"\"\", \n",
        "                  \n",
        "            f\"\"\"\n",
        "            train jaccard score {self.jaccard_scores['train'][-1]}\n",
        "            val jaccard score {self.jaccard_scores['val'][-1]}\n",
        "            \"\"\",\n",
        "        ]\n",
        "        \n",
        "        clear_output(True)\n",
        "        with plt.style.context(\"seaborn-dark-palette\"):\n",
        "            fig, axes = plt.subplots(3, 1, figsize=(8, 10))\n",
        "            for i, ax in enumerate(axes):\n",
        "                ax.plot(data[i]['val'], c=colors[0], label=\"val\")\n",
        "                ax.plot(data[i]['train'], c=colors[-1], label=\"train\")\n",
        "                ax.set_title(labels[i])\n",
        "                ax.legend(loc=\"upper right\")\n",
        "                \n",
        "            plt.tight_layout()\n",
        "            plt.show()\n",
        "            \n",
        "    def load_predtrain_model(self,\n",
        "                             state_path: str):\n",
        "        self.net.load_state_dict(torch.load(state_path, map_location=torch.device('cpu')))\n",
        "        print(\"Predtrain model loaded\")\n",
        "        \n",
        "    def _save_train_history(self):\n",
        "        \"\"\"writing model weights and training logs to files.\"\"\"\n",
        "        torch.save(self.net.state_dict(),\n",
        "                   f\"last_epoch_model.pth\")\n",
        "\n",
        "        logs_ = [self.losses, self.dice_scores, self.jaccard_scores]\n",
        "        log_names_ = [\"_loss\", \"_dice\", \"_jaccard\"]\n",
        "        logs = [logs_[i][key] for i in list(range(len(logs_)))\n",
        "                         for key in logs_[i]]\n",
        "        log_names = [key+log_names_[i] \n",
        "                     for i in list(range(len(logs_))) \n",
        "                     for key in logs_[i]\n",
        "                    ]\n",
        "        pd.DataFrame(\n",
        "            dict(zip(log_names, logs))\n",
        "        ).to_csv(\"train_log.csv\", index=False)"
      ],
      "execution_count": null,
      "outputs": []
    },
    {
      "cell_type": "code",
      "metadata": {
        "id": "J7ckVljdrF_S"
      },
      "source": [
        "!nvidia-smi"
      ],
      "execution_count": null,
      "outputs": []
    },
    {
      "cell_type": "markdown",
      "metadata": {
        "id": "z6Jb4iZ7cfC7"
      },
      "source": [
        "training process"
      ]
    },
    {
      "cell_type": "code",
      "metadata": {
        "id": "IGLm_q-WcfC8"
      },
      "source": [
        "nodel = UNet3d(in_channels=4, n_classes=3, n_channels=24)"
      ],
      "execution_count": null,
      "outputs": []
    },
    {
      "cell_type": "code",
      "metadata": {
        "id": "xhBAI8kicfC8"
      },
      "source": [
        "trainer = Trainer(net=nodel,\n",
        "                  dataset=BratsDataset,\n",
        "                  criterion=BCEDiceLoss(),\n",
        "                  lr=5e-4,\n",
        "                  accumulation_steps=1,\n",
        "                  batch_size=1,\n",
        "                  fold=0,\n",
        "                  num_epochs=1,\n",
        "                  path_to_csv = config.path_to_csv,\n",
        "                  )\n",
        "\n",
        "if config.pretrained_model_path is not None:\n",
        "    trainer.load_predtrain_model(config.pretrained_model_path)\n",
        "    \n",
        "    # if need - load the logs.      \n",
        "    train_logs = pd.read_csv(config.train_logs_path)\n",
        "    trainer.losses[\"train\"] =  train_logs.loc[:, \"train_loss\"].to_list()\n",
        "    trainer.losses[\"val\"] =  train_logs.loc[:, \"val_loss\"].to_list()\n",
        "    trainer.dice_scores[\"train\"] = train_logs.loc[:, \"train_dice\"].to_list()\n",
        "    trainer.dice_scores[\"val\"] = train_logs.loc[:, \"val_dice\"].to_list()\n",
        "    trainer.jaccard_scores[\"train\"] = train_logs.loc[:, \"train_jaccard\"].to_list()\n",
        "    trainer.jaccard_scores[\"val\"] = train_logs.loc[:, \"val_jaccard\"].to_list()"
      ],
      "execution_count": null,
      "outputs": []
    },
    {
      "cell_type": "code",
      "metadata": {
        "colab": {
          "background_save": true
        },
        "id": "Ko1lkER8cfC9"
      },
      "source": [
        "%%time\n",
        "trainer.run()"
      ],
      "execution_count": null,
      "outputs": []
    },
    {
      "cell_type": "markdown",
      "metadata": {
        "id": "-8uwBtiMcfC9"
      },
      "source": [
        "# Experiments and Results"
      ]
    },
    {
      "cell_type": "code",
      "metadata": {
        "colab": {
          "background_save": true
        },
        "id": "HVFovmU-cfC-"
      },
      "source": [
        "def compute_scores_per_classes(model,\n",
        "                               dataloader,\n",
        "                               classes):\n",
        "    \"\"\"\n",
        "    Compute Dice and Jaccard coefficients for each class.\n",
        "    Params:\n",
        "        model: neural net for make predictions.\n",
        "        dataloader: dataset object to load data from.\n",
        "        classes: list with classes.\n",
        "        Returns: dictionaries with dice and jaccard coefficients for each class for each slice.\n",
        "    \"\"\"\n",
        "    device = 'cuda' if torch.cuda.is_available() else 'cpu'\n",
        "    dice_scores_per_classes = {key: list() for key in classes}\n",
        "    iou_scores_per_classes = {key: list() for key in classes}\n",
        "\n",
        "    with torch.no_grad():\n",
        "        for i, data in enumerate(dataloader):\n",
        "            imgs, targets = data['image'], data['mask']\n",
        "            imgs, targets = imgs.to(device), targets.to(device)\n",
        "            logits = model(imgs)\n",
        "            logits = logits.detach().cpu().numpy()\n",
        "            targets = targets.detach().cpu().numpy()\n",
        "            \n",
        "            dice_scores = dice_coef_metric_per_classes(logits, targets)\n",
        "            iou_scores = jaccard_coef_metric_per_classes(logits, targets)\n",
        "\n",
        "            for key in dice_scores.keys():\n",
        "                dice_scores_per_classes[key].extend(dice_scores[key])\n",
        "\n",
        "            for key in iou_scores.keys():\n",
        "                iou_scores_per_classes[key].extend(iou_scores[key])\n",
        "\n",
        "    return dice_scores_per_classes, iou_scores_per_classes\n"
      ],
      "execution_count": null,
      "outputs": []
    },
    {
      "cell_type": "code",
      "metadata": {
        "colab": {
          "background_save": true
        },
        "id": "VA8SDomjcfC-"
      },
      "source": [
        "val_dataloader = get_dataloader(BratsDataset, 'train_data.csv', phase='valid', fold=0)\n",
        "len(dataloader)"
      ],
      "execution_count": null,
      "outputs": []
    },
    {
      "cell_type": "code",
      "metadata": {
        "colab": {
          "background_save": true
        },
        "id": "nJWClM90cfC-"
      },
      "source": [
        "nodel.eval();"
      ],
      "execution_count": null,
      "outputs": []
    },
    {
      "cell_type": "code",
      "metadata": {
        "colab": {
          "background_save": true
        },
        "id": "37mA_9WLcfC_"
      },
      "source": [
        "%%time\n",
        "dice_scores_per_classes, iou_scores_per_classes = compute_scores_per_classes(\n",
        "    nodel, val_dataloader, ['WT', 'TC', 'ET']\n",
        "    )"
      ],
      "execution_count": null,
      "outputs": []
    },
    {
      "cell_type": "code",
      "metadata": {
        "colab": {
          "background_save": true
        },
        "id": "NOBEG_tzcfC_"
      },
      "source": [
        "dice_df = pd.DataFrame(dice_scores_per_classes)\n",
        "dice_df.columns = ['WT dice', 'TC dice', 'ET dice']\n",
        "\n",
        "iou_df = pd.DataFrame(iou_scores_per_classes)\n",
        "iou_df.columns = ['WT jaccard', 'TC jaccard', 'ET jaccard']\n",
        "val_metics_df = pd.concat([dice_df, iou_df], axis=1, sort=True)\n",
        "val_metics_df = val_metics_df.loc[:, ['WT dice', 'WT jaccard', \n",
        "                                      'TC dice', 'TC jaccard', \n",
        "                                      'ET dice', 'ET jaccard']]\n",
        "val_metics_df.sample(5)"
      ],
      "execution_count": null,
      "outputs": []
    },
    {
      "cell_type": "code",
      "metadata": {
        "colab": {
          "background_save": true
        },
        "id": "ugpcrEPOcfC_"
      },
      "source": [
        "colors = ['#35FCFF', '#FF355A', '#96C503', '#C5035B', '#28B463', '#35FFAF']\n",
        "palette = sns.color_palette(colors, 6)\n",
        "\n",
        "fig, ax = plt.subplots(figsize=(12, 6));\n",
        "sns.barplot(x=val_metics_df.mean().index, y=val_metics_df.mean(), palette=palette, ax=ax);\n",
        "ax.set_xticklabels(val_metics_df.columns, fontsize=14, rotation=15);\n",
        "ax.set_title(\"Dice and Jaccard Coefficients from Validation\", fontsize=20)\n",
        "\n",
        "for idx, p in enumerate(ax.patches):\n",
        "        percentage = '{:.1f}%'.format(100 * val_metics_df.mean().values[idx])\n",
        "        x = p.get_x() + p.get_width() / 2 - 0.15\n",
        "        y = p.get_y() + p.get_height()\n",
        "        ax.annotate(percentage, (x, y), fontsize=15, fontweight=\"bold\")\n",
        "\n",
        "fig.savefig(\"result1.png\", format=\"png\",  pad_inches=0.2, transparent=False, bbox_inches='tight')\n",
        "fig.savefig(\"result1.svg\", format=\"svg\",  pad_inches=0.2, transparent=False, bbox_inches='tight')"
      ],
      "execution_count": null,
      "outputs": []
    },
    {
      "cell_type": "markdown",
      "metadata": {
        "id": "Cpuf-veRcfDA"
      },
      "source": [
        "## More visualization"
      ]
    },
    {
      "cell_type": "code",
      "metadata": {
        "colab": {
          "background_save": true
        },
        "id": "EulOJrYlcfDA"
      },
      "source": [
        "def compute_results(model,\n",
        "                    dataloader,\n",
        "                    treshold=0.33):\n",
        "\n",
        "    device = 'cuda' if torch.cuda.is_available() else 'cpu'\n",
        "    results = {\"Id\": [],\"image\": [], \"GT\": [],\"Prediction\": []}\n",
        "\n",
        "    with torch.no_grad():\n",
        "        for i, data in enumerate(dataloader):\n",
        "            id_, imgs, targets = data['Id'], data['image'], data['mask']\n",
        "            imgs, targets = imgs.to(device), targets.to(device)\n",
        "            logits = model(imgs)\n",
        "            probs = torch.sigmoid(logits)\n",
        "            \n",
        "            predictions = (probs >= treshold).float()\n",
        "            predictions =  predictions.cpu()\n",
        "            targets = targets.cpu()\n",
        "            \n",
        "            results[\"Id\"].append(id_)\n",
        "            results[\"image\"].append(imgs.cpu())\n",
        "            results[\"GT\"].append(targets)\n",
        "            results[\"Prediction\"].append(predictions)\n",
        "            \n",
        "            # only 5 pars\n",
        "            if (i > 5):    \n",
        "                return results\n",
        "        return results"
      ],
      "execution_count": null,
      "outputs": []
    },
    {
      "cell_type": "code",
      "metadata": {
        "colab": {
          "background_save": true
        },
        "id": "_Am1I7F2cfDB"
      },
      "source": [
        "%%time\n",
        "results = compute_results(\n",
        "    nodel, val_dataloader, 0.33)"
      ],
      "execution_count": null,
      "outputs": []
    },
    {
      "cell_type": "code",
      "metadata": {
        "colab": {
          "background_save": true
        },
        "id": "A1cwTM2tcfDB"
      },
      "source": [
        "for id_, img, gt, prediction in zip(results['Id'][4:],\n",
        "                    results['image'][4:],\n",
        "                    results['GT'][4:],\n",
        "                    results['Prediction'][4:]\n",
        "                    ):\n",
        "    \n",
        "    print(id_)\n",
        "    break"
      ],
      "execution_count": null,
      "outputs": []
    },
    {
      "cell_type": "markdown",
      "metadata": {
        "id": "MSZ5yEMGcfDC"
      },
      "source": [
        "### convert 3d to 2d ground truth and prediction"
      ]
    },
    {
      "cell_type": "code",
      "metadata": {
        "colab": {
          "background_save": true
        },
        "id": "DFSdTDbScfDC"
      },
      "source": [
        "show_result = ShowResult()\n",
        "show_result.plot(img, gt, prediction)"
      ],
      "execution_count": null,
      "outputs": []
    },
    {
      "cell_type": "markdown",
      "metadata": {
        "id": "xR8ilRjOcfDC"
      },
      "source": [
        "### 3d binary mask projection for ground truth and prediction"
      ]
    },
    {
      "cell_type": "markdown",
      "metadata": {
        "id": "H0W13IzRcfDC"
      },
      "source": [
        "ground truth"
      ]
    },
    {
      "cell_type": "code",
      "metadata": {
        "colab": {
          "background_save": true
        },
        "id": "IOaORk_QcfDC"
      },
      "source": [
        "gt = gt.squeeze().cpu().detach().numpy()\n",
        "gt = np.moveaxis(gt, (0, 1, 2, 3), (0, 3, 2, 1))\n",
        "wt,tc, et = gt\n",
        "print(wt.shape, tc.shape, et.shape)\n",
        "gt = (wt + tc + et)\n",
        "gt = np.clip(gt, 0, 1)\n",
        "print(gt.shape)"
      ],
      "execution_count": null,
      "outputs": []
    },
    {
      "cell_type": "code",
      "metadata": {
        "colab": {
          "background_save": true
        },
        "id": "P6WCiqcpcfDD"
      },
      "source": [
        "%%time\n",
        "title = \"Ground Truth_\" + id_[0]\n",
        "filename1 = title + \"_3d.gif\"\n",
        "\n",
        "data_to_3dgif = Image3dToGIF3d(img_dim = (120, 120, 78), binary=True, normalizing=False)\n",
        "transformed_data = data_to_3dgif.get_transformed_data(gt)\n",
        "data_to_3dgif.plot_cube(\n",
        "    transformed_data,\n",
        "    title=title,\n",
        "    make_gif=True,\n",
        "    path_to_save=filename1\n",
        ")\n",
        "#show_gif(filename1, format='png')"
      ],
      "execution_count": null,
      "outputs": []
    },
    {
      "cell_type": "markdown",
      "metadata": {
        "id": "h9zLtpa4cfDD"
      },
      "source": [
        "prediction"
      ]
    },
    {
      "cell_type": "code",
      "metadata": {
        "colab": {
          "background_save": true
        },
        "id": "MMPB4Oh2cfDD"
      },
      "source": [
        "prediction = prediction.squeeze().cpu().detach().numpy()\n",
        "prediction = np.moveaxis(prediction, (0, 1, 2, 3), (0, 3, 2, 1))\n",
        "wt,tc,et = prediction\n",
        "print(wt.shape, tc.shape, et.shape)\n",
        "prediction = (wt + tc + et)\n",
        "prediction = np.clip(prediction, 0, 1)\n",
        "print(prediction.shape)"
      ],
      "execution_count": null,
      "outputs": []
    },
    {
      "cell_type": "code",
      "metadata": {
        "colab": {
          "background_save": true
        },
        "id": "wqOnIJt7cfDE"
      },
      "source": [
        "%%time\n",
        "title = \"Prediction_\" + id_[0]\n",
        "filename2 = title + \"_3d.gif\"\n",
        "\n",
        "data_to_3dgif = Image3dToGIF3d(img_dim = (120, 120, 78), binary=True, normalizing=False)\n",
        "transformed_data = data_to_3dgif.get_transformed_data(prediction)\n",
        "data_to_3dgif.plot_cube(\n",
        "    transformed_data,\n",
        "    title=title,\n",
        "    make_gif=True,\n",
        "    path_to_save=filename2\n",
        ")\n",
        "#show_gif(filename2, format='png')#"
      ],
      "execution_count": null,
      "outputs": []
    },
    {
      "cell_type": "markdown",
      "metadata": {
        "id": "vdpwBN4vcfDE"
      },
      "source": [
        "result"
      ]
    },
    {
      "cell_type": "code",
      "metadata": {
        "id": "fYXQfCjGcfDE"
      },
      "source": [
        "merging_two_gif(filename1,\n",
        "                filename2, \n",
        "                'result.gif')\n",
        "show_gif('result.gif', format='png')"
      ],
      "execution_count": null,
      "outputs": []
    },
    {
      "cell_type": "markdown",
      "metadata": {
        "id": "lwRV-v-Vocyy"
      },
      "source": [
        "---------------------------------------------------------------------------------------------------------------------------------------------------------"
      ]
    },
    {
      "cell_type": "markdown",
      "metadata": {
        "id": "D-qybbAPocja"
      },
      "source": [
        "------------------------------------------------------------------------------"
      ]
    },
    {
      "cell_type": "markdown",
      "metadata": {
        "id": "3nucCoecorSp"
      },
      "source": [
        "------------------------------------------------------------------------------"
      ]
    },
    {
      "cell_type": "markdown",
      "metadata": {
        "id": "Ro9IlvK6op4x"
      },
      "source": [
        "------------------------------------------------------------------------------"
      ]
    },
    {
      "cell_type": "markdown",
      "metadata": {
        "id": "-NBwTK6AcfDE"
      },
      "source": [
        "# 3DAutoEncoder"
      ]
    },
    {
      "cell_type": "code",
      "metadata": {
        "id": "X1NcLskocfDF"
      },
      "source": [
        "class AutoEncoder(nn.Module):\n",
        "    def __init__(self):\n",
        "        super(AutoEncoder, self).__init__()\n",
        "        # Encoder\n",
        "        self.conv1 = nn.Conv3d(4, 16, 3)\n",
        "        self.conv2 = nn.Conv3d(16, 32, 3)\n",
        "        self.conv3 = nn.Conv3d(32, 96, 2)\n",
        "        self.pool1 = nn.MaxPool3d(kernel_size=2, stride=2, return_indices=True)\n",
        "        self.pool2 = nn.MaxPool3d(kernel_size=3, stride=3, return_indices=True)\n",
        "        self.pool3 = nn.MaxPool3d(kernel_size=2, stride=2, return_indices=True)\n",
        "        self.enc_linear = nn.Linear(381216, 512)\n",
        "        \n",
        "        # Decoder\n",
        "        self.deconv1 = nn.ConvTranspose3d(96, 32, 2)\n",
        "        self.deconv2 = nn.ConvTranspose3d(32, 16, 3)\n",
        "        self.deconv3 = nn.ConvTranspose3d(16, 4, 3)\n",
        "        self.unpool1 = nn.MaxUnpool3d(kernel_size=2, stride=2)\n",
        "        self.unpool2 = nn.MaxUnpool3d(kernel_size=3, stride=3)\n",
        "        self.unpool3 = nn.MaxUnpool3d(kernel_size=2, stride=2)\n",
        "\n",
        "        self.dec_linear = nn.Linear(512, 381216)\n",
        "        \n",
        "    def encode(self, x, return_partials=True):\n",
        "        # Encoder\n",
        "        x = self.conv1(x)\n",
        "        up3out_shape = x.shape\n",
        "        x, indices1 = self.pool1(x)\n",
        "        x = self.conv2(x)\n",
        "        up2out_shape = x.shape\n",
        "        x, indices2 = self.pool2(x)\n",
        "        x = self.conv3(x)\n",
        "        up1out_shape = x.shape\n",
        "        x, indices3 = self.pool3(x)\n",
        "        #print(x.shape)\n",
        "        x = x.view((x.size(0), -1))\n",
        "        #print(x.shape)\n",
        "        x = self.enc_linear(x)\n",
        "\n",
        "        # required for unpool\n",
        "        pool_par = {\n",
        "            \"P1\": [indices1, up3out_shape], \n",
        "            \"P2\": [indices2, up2out_shape], \n",
        "            \"P3\": [indices3, up1out_shape]\n",
        "                   }\n",
        "        \n",
        "        if return_partials:\n",
        "            return x, pool_par\n",
        "        else:\n",
        "            return x\n",
        "\n",
        "    def decode(self, x, pool_par):\n",
        "        x = self.dec_linear(x)\n",
        "        x = x.view((x.size(0), 96, 11, 19, 19))\n",
        "        \n",
        "        x = self.unpool1(x, output_size=pool_par[\"P3\"][1], indices=pool_par[\"P3\"][0])\n",
        "        #print(x.shape)\n",
        "        x = self.deconv1(x)\n",
        "        x = self.unpool2(x, output_size=pool_par[\"P2\"][1], indices=pool_par[\"P2\"][0])\n",
        "        x = self.deconv2(x)\n",
        "        x = self.unpool3(x, output_size=pool_par[\"P1\"][1], indices=pool_par[\"P1\"][0])\n",
        "        x = self.deconv3(x)\n",
        "        return x\n",
        "    \n",
        "    def forward(self, x):\n",
        "        self.feature, pool_par = self.encode(x)\n",
        "        out = self.decode(self.feature, pool_par)\n",
        "        return out"
      ],
      "execution_count": null,
      "outputs": []
    },
    {
      "cell_type": "markdown",
      "metadata": {
        "id": "ZYQNj4E3cfDF"
      },
      "source": [
        "### Dataset and Dataloader"
      ]
    },
    {
      "cell_type": "code",
      "metadata": {
        "id": "hzWDAS6mcfDF"
      },
      "source": [
        "def get_augmentations(phase):\n",
        "    list_transforms = []\n",
        "    \n",
        "    list_trfms = Compose(list_transforms)\n",
        "    return list_trfms\n",
        "\n",
        "\n",
        "def get_dataloader(\n",
        "    dataset: torch.utils.data.Dataset,\n",
        "    path_to_csv: str,\n",
        "    phase: str,\n",
        "    fold: int = 0,\n",
        "    batch_size: int = 1,\n",
        "    num_workers: int = 4,\n",
        "):\n",
        "    '''Returns: dataloader for the model training'''\n",
        "    df = pd.read_csv(path_to_csv)\n",
        "    \n",
        "    train_df = df.loc[df['fold'] != fold].reset_index(drop=True)\n",
        "    val_df = df.loc[df['fold'] == fold].reset_index(drop=True)\n",
        "\n",
        "    df = train_df if phase == \"train\" else val_df\n",
        "    dataset = dataset(df, phase)\n",
        "    dataloader = DataLoader(\n",
        "        dataset,\n",
        "        batch_size=batch_size,\n",
        "        num_workers=num_workers,\n",
        "        pin_memory=True,\n",
        "        shuffle=True,   \n",
        "    )\n",
        "\n",
        "    return dataloader"
      ],
      "execution_count": null,
      "outputs": []
    },
    {
      "cell_type": "code",
      "metadata": {
        "id": "Jf4SsZywcfDG"
      },
      "source": [
        "class AutoEncoderDataset(Dataset):\n",
        "    def __init__(self, df: pd.DataFrame, phase: str = \"test\"):\n",
        "        self.df = df\n",
        "        self.phase = phase\n",
        "        self.augmentations = get_augmentations(phase)\n",
        "        self.data_types = ['_flair.nii', '_t1.nii', '_t1ce.nii', '_t2.nii']\n",
        "        \n",
        "    def __len__(self):\n",
        "        return self.df.shape[0]\n",
        "    \n",
        "    def __getitem__(self, idx):\n",
        "        id_ = self.df.loc[idx, 'Brats20ID']\n",
        "        root_path = self.df.loc[self.df['Brats20ID'] == id_]['path'].values[0]\n",
        "        # load all modalities\n",
        "        images = []\n",
        "        for data_type in self.data_types:\n",
        "            img_path = os.path.join(root_path, id_ + data_type)\n",
        "            img = self.load_img(img_path)\n",
        "\n",
        "            img = self.normalize(img)\n",
        "            images.append(img.astype(np.float32))\n",
        "        img = np.stack(images)\n",
        "        img = np.moveaxis(img, (0, 1, 2, 3), (0, 3, 2, 1))\n",
        "    \n",
        "        \n",
        "        return {\n",
        "            \"Id\": id_,\n",
        "            \"data\": img,\n",
        "            \"label\": img,\n",
        "            }\n",
        "    \n",
        "    def load_img(self, file_path):\n",
        "        data = nib.load(file_path)\n",
        "        data = np.asarray(data.dataobj)\n",
        "        return data\n",
        "    \n",
        "    def normalize(self, data: np.ndarray,  mean=0.0, std=1.0):\n",
        "        \"\"\"Normilize image value between 0 and 1.\"\"\"\n",
        "        data_min = np.min(data)\n",
        "        return (data - data_min) / (np.max(data) - data_min)\n",
        "        "
      ],
      "execution_count": null,
      "outputs": []
    },
    {
      "cell_type": "code",
      "metadata": {
        "id": "Ef6MhJsncfDH"
      },
      "source": [
        "dataloader = get_dataloader(AutoEncoderDataset, 'train_data.csv', phase='valid', fold=0)\n",
        "len(dataloader)\n",
        "\n",
        "data = next(iter(dataloader))\n",
        "data['Id'], data['data'].shape, data['label'].shape"
      ],
      "execution_count": null,
      "outputs": []
    },
    {
      "cell_type": "markdown",
      "metadata": {
        "id": "mmGko7SRcfDH"
      },
      "source": [
        "### training process"
      ]
    },
    {
      "cell_type": "code",
      "metadata": {
        "id": "of_P0SwncfDI"
      },
      "source": [
        "class Trainer:\n",
        "    def __init__(self,\n",
        "                 net: nn.Module,\n",
        "                 criterion: nn.Module,\n",
        "                 lr: float,\n",
        "                 accumulation_steps: int,\n",
        "                 batch_size: int,\n",
        "                 fold: int,\n",
        "                 num_epochs: int,\n",
        "                 path_to_csv: str,\n",
        "                 dataset: torch.utils.data.Dataset,\n",
        "                ):\n",
        "\n",
        "        \"\"\"Initialization.\"\"\"\n",
        "        self.device = 'cuda' if torch.cuda.is_available() else 'cpu'\n",
        "        print(\"device:\", self.device)\n",
        "        self.net = net\n",
        "        self.net = self.net.to(self.device)\n",
        "        self.criterion = criterion\n",
        "        self.optimizer = Adam(self.net.parameters(), lr=lr)\n",
        "        self.scheduler = ReduceLROnPlateau(self.optimizer, mode=\"min\",\n",
        "                                           patience=2, verbose=True)\n",
        "        self.accumulation_steps = accumulation_steps // batch_size\n",
        "        self.phases = [\"train\", \"val\"]\n",
        "        self.num_epochs = num_epochs\n",
        "\n",
        "        self.dataloaders = {\n",
        "\n",
        "            phase: get_dataloader(\n",
        "                dataset = dataset,\n",
        "                path_to_csv = path_to_csv,\n",
        "                phase = phase,\n",
        "                fold = fold,\n",
        "                batch_size = batch_size,\n",
        "                num_workers = 4\n",
        "            )\n",
        "            for phase in self.phases\n",
        "        }\n",
        "        self.best_loss = float(\"inf\")\n",
        "        self.losses = {phase: [] for phase in self.phases}\n",
        "         \n",
        "    def _compute_loss_and_outputs(self,\n",
        "                                  images: torch.Tensor,\n",
        "                                  targets: torch.Tensor):\n",
        "        images = images.to(self.device)\n",
        "        targets = targets.to(self.device)\n",
        "        logits = self.net(images)\n",
        "        loss = self.criterion(logits, targets)\n",
        "        return loss, logits\n",
        "        \n",
        "    def _do_epoch(self, epoch: int, phase: str):\n",
        "        print(f\"{phase} epoch: {epoch} | time: {time.strftime('%H:%M:%S')}\")\n",
        "\n",
        "        self.net.train() if phase == \"train\" else self.net.eval()\n",
        "        dataloader = self.dataloaders[phase]\n",
        "        total_batches = len(dataloader)\n",
        "        running_loss = 0.0\n",
        "        self.optimizer.zero_grad()\n",
        "        for itr, data_batch in enumerate(dataloader):\n",
        "            images, targets = data_batch['data'], data_batch['label']\n",
        "            loss, logits = self._compute_loss_and_outputs(images, targets)\n",
        "            loss = loss / self.accumulation_steps\n",
        "            if phase == \"train\":\n",
        "                loss.backward()\n",
        "                if (itr + 1) % self.accumulation_steps == 0:\n",
        "                    self.optimizer.step()\n",
        "                    self.optimizer.zero_grad()\n",
        "            running_loss += loss.item()\n",
        "            \n",
        "        epoch_loss = (running_loss * self.accumulation_steps) / total_batches\n",
        "\n",
        "        \n",
        "        self.losses[phase].append(epoch_loss)\n",
        "        print(f\"Loss | {self.losses[phase][-1]}\")\n",
        "\n",
        "\n",
        "        return epoch_loss\n",
        "        \n",
        "    def run(self):\n",
        "        for epoch in range(self.num_epochs):\n",
        "            self._do_epoch(epoch, \"train\")\n",
        "            with torch.no_grad():\n",
        "                val_loss = self._do_epoch(epoch, \"val\")\n",
        "                self.scheduler.step(val_loss)\n",
        "                \n",
        "            if val_loss < self.best_loss:\n",
        "                print(f\"\\n{'#'*20}\\nSaved new checkpoint\\n{'#'*20}\\n\")\n",
        "                self.best_loss = val_loss\n",
        "                torch.save(self.net.state_dict(), \"autoencoder_best_model.pth\")\n",
        "            print()\n",
        "        self._save_train_history()\n",
        "            \n",
        "            \n",
        "    def load_predtrain_model(self,\n",
        "                             state_path: str):\n",
        "        self.net.load_state_dict(torch.load(state_path), map_location=torch.device('cpu'))\n",
        "        print(\"Predtrain model loaded\")\n",
        "        \n",
        "    def _save_train_history(self):\n",
        "        \"\"\"writing model weights and training logs to files.\"\"\"\n",
        "        torch.save(self.net.state_dict(),\n",
        "                   f\"autoencoder_last_epoch_model.pth\")\n"
      ],
      "execution_count": null,
      "outputs": []
    },
    {
      "cell_type": "code",
      "metadata": {
        "id": "de5INURkcfDI"
      },
      "source": [
        "model = AutoEncoder()\n",
        "\n",
        "trainer = Trainer(net=model,\n",
        "                  dataset= AutoEncoderDataset,\n",
        "                  criterion=MSELoss(),\n",
        "                  lr=5e-4,\n",
        "                  accumulation_steps=4,\n",
        "                  batch_size=1,\n",
        "                  fold=0,\n",
        "                  num_epochs=1,\n",
        "                  path_to_csv = config.path_to_csv,)\n",
        "\n",
        "\n",
        "if config.ae_pretrained_model_path is not None:\n",
        "    trainer.load_predtrain_model(config.ae_pretrained_model_path)"
      ],
      "execution_count": null,
      "outputs": []
    },
    {
      "cell_type": "code",
      "metadata": {
        "id": "-vPtG28xcfDJ"
      },
      "source": [
        "%%time\n",
        "trainer.run()"
      ],
      "execution_count": null,
      "outputs": []
    },
    {
      "cell_type": "markdown",
      "metadata": {
        "id": "w9yqqbPTcfDJ"
      },
      "source": [
        "Checking quality of AE "
      ]
    },
    {
      "cell_type": "code",
      "metadata": {
        "id": "5k2GWCWTcfDJ"
      },
      "source": [
        "dataloader = get_dataloader(AutoEncoderDataset, 'train_data.csv', phase='val', fold=0)"
      ],
      "execution_count": null,
      "outputs": []
    },
    {
      "cell_type": "code",
      "metadata": {
        "id": "veABr3WQcfDJ"
      },
      "source": [
        "model.eval();\n",
        "with torch.no_grad():\n",
        "    for data in dataloader:\n",
        "        id_, imgs, targets = data['Id'], data['data'], data['label']\n",
        "        imgs, targets = imgs.to('cpu'), targets.to('cpu')\n",
        "        output = model(imgs)\n",
        "        output = output.cpu()\n",
        "        break"
      ],
      "execution_count": null,
      "outputs": []
    },
    {
      "cell_type": "markdown",
      "metadata": {
        "id": "bDWmBFMXcfDK"
      },
      "source": [
        "ground truth"
      ]
    },
    {
      "cell_type": "code",
      "metadata": {
        "id": "GravIBt4cfDK"
      },
      "source": [
        "imgs = imgs.squeeze().cpu().numpy()\n",
        "imgs = np.moveaxis(imgs, (0, 1, 2, 3), (0, 3, 2, 1))\n",
        "print(imgs.shape)\n",
        "\n",
        "gt_flair, gt_t1, gt_t1ce, gt_t2 = imgs\n",
        "print(gt_flair.shape, gt_t1.shape, gt_t1ce.shape, gt_t2.shape)"
      ],
      "execution_count": null,
      "outputs": []
    },
    {
      "cell_type": "code",
      "metadata": {
        "id": "TCXq7qqAcfDK"
      },
      "source": [
        "plt.figure(figsize=(15, 10))\n",
        "plt.imshow(np.rot90(montage(gt_flair)), cmap='bone')"
      ],
      "execution_count": null,
      "outputs": []
    },
    {
      "cell_type": "code",
      "metadata": {
        "id": "jeGC2cItcfDK"
      },
      "source": [
        "%%time\n",
        "title = \"AE_Ground_Truth_\" + id_[0]\n",
        "filename1 = title + \"_3d.gif\"\n",
        "\n",
        "\n",
        "data_to_3dgif = Image3dToGIF3d(img_dim = (55, 55, 55), binary=False, normalizing=False)\n",
        "transformed_data = data_to_3dgif.get_transformed_data(gt_flair)\n",
        "#transformed_data = np.rot90(transformed_data)\n",
        "data_to_3dgif.plot_cube(\n",
        "    transformed_data[:38, :47, :35],\n",
        "    title=title,\n",
        "    make_gif=True,\n",
        "    path_to_save=filename1\n",
        ")\n",
        "#show_gif(filename1, format='png')"
      ],
      "execution_count": null,
      "outputs": []
    },
    {
      "cell_type": "markdown",
      "metadata": {
        "id": "rzGDtr5tcfDL"
      },
      "source": [
        "prediction"
      ]
    },
    {
      "cell_type": "code",
      "metadata": {
        "id": "F-4NPVQjcfDL"
      },
      "source": [
        "output = output.squeeze().numpy()\n",
        "output = np.moveaxis(output, (0, 1, 2, 3), (0, 3, 2, 1))\n",
        "print(output.shape)\n",
        "\n",
        "pr_flair, pr_t1, pr_t1ce, pr_t2 = output\n",
        "print(pr_flair.shape, pr_t1.shape, pr_t1ce.shape, pr_t2.shape)"
      ],
      "execution_count": null,
      "outputs": []
    },
    {
      "cell_type": "code",
      "metadata": {
        "id": "n9Fo4j3EcfDL"
      },
      "source": [
        "plt.figure(figsize=(15, 10))\n",
        "pr_flair1 = pr_flair.copy()\n",
        "pr_flair1[pr_flair1 < 1e-7] = 0  # remove artifacts.\n",
        "plt.imshow(np.rot90(montage(pr_flair1)), cmap='bone')"
      ],
      "execution_count": null,
      "outputs": []
    },
    {
      "cell_type": "code",
      "metadata": {
        "id": "77-k3wwpcfDL"
      },
      "source": [
        "%%time\n",
        "title = \"AE_Prediction_\" + id_[0]\n",
        "filename2 = title + \"_3d.gif\"\n",
        "\n",
        "\n",
        "data_to_3dgif = Image3dToGIF3d(img_dim = (55, 55, 55), binary=False, normalizing=False)\n",
        "transformed_data = data_to_3dgif.get_transformed_data(pr_flair1)\n",
        "#transformed_data = np.rot90(transformed_data)\n",
        "data_to_3dgif.plot_cube(\n",
        "    transformed_data[:38, :47, :35],\n",
        "    title=title,\n",
        "    make_gif=True,\n",
        "    path_to_save=filename2\n",
        ")\n",
        "#show_gif(filename1, format='png')\"\"\""
      ],
      "execution_count": null,
      "outputs": []
    },
    {
      "cell_type": "code",
      "metadata": {
        "id": "0btUKistcfDM"
      },
      "source": [
        "merging_two_gif(filename1,\n",
        "                filename2, \n",
        "                'AE_result.gif')\n",
        "show_gif('AE_result.gif', format='png')"
      ],
      "execution_count": null,
      "outputs": []
    },
    {
      "cell_type": "markdown",
      "metadata": {
        "id": "ypvbr011cfDM"
      },
      "source": [
        "Now let's generates all latent features"
      ]
    },
    {
      "cell_type": "code",
      "metadata": {
        "id": "9fBYfOHpcfDM"
      },
      "source": [
        "class LatentFeaturesGenerator:\n",
        "    def __init__(self, \n",
        "                 autoencoder, \n",
        "                 device: str = 'cpu'):\n",
        "        \n",
        "        self.autoencoder = autoencoder.to(device)\n",
        "        self.device = device\n",
        "\n",
        "    def __call__(self, img):\n",
        "        with torch.no_grad():\n",
        "            img = torch.FloatTensor(img).unsqueeze(0).to(self.device)\n",
        "            latent_features = self.autoencoder.encode(\n",
        "                img, return_partials=False).squeeze(0).cpu().numpy()\n",
        "\n",
        "        return latent_features"
      ],
      "execution_count": null,
      "outputs": []
    },
    {
      "cell_type": "code",
      "metadata": {
        "id": "BonUnUkNcfDM"
      },
      "source": [
        "class Features_Generator:\n",
        "    \n",
        "    def __init__(self, df, autoencoder):\n",
        "        self.df = df\n",
        "        self.df_voxel_stats = pd.DataFrame()\n",
        "        self.latent_feature_generator = LatentFeaturesGenerator(autoencoder)\n",
        "        \n",
        "    def _read_file(self, file_path):\n",
        "        data = nib.load(file_path)\n",
        "        data = np.asarray(data.dataobj).astype(np.float32)\n",
        "        return data\n",
        "    \n",
        "    def _normalize(self, data: np.ndarray):\n",
        "        \"\"\"Normilize image value between 0 and 1.\"\"\"\n",
        "        data_min = np.min(data)\n",
        "        return (data - data_min) / (np.max(data) - data_min)\n",
        "    \n",
        "    def _create_features(self, Brats20ID):\n",
        "        features = {}\n",
        "        images = []\n",
        "        # vOXEL STATS\n",
        "        for data_type in ['_t1.nii', '_t2.nii', '_flair.nii', '_t1ce.nii']:\n",
        "            \n",
        "            \n",
        "            # data path\n",
        "            root_path = self.df.loc[self.df['Brats20ID'] == Brats20ID]['path'].values[0]\n",
        "            file_path = os.path.join(root_path, Brats20ID + data_type)\n",
        "            \n",
        "            # flatten 3d array\n",
        "            img_data = self._read_file(file_path)\n",
        "            data = img_data.reshape(-1)\n",
        "            \n",
        "            # create features\n",
        "            data_mean = data.mean()\n",
        "            data_std = data.std()\n",
        "            intensive_data = data[data > data_mean]\n",
        "            more_intensive_data = data[data > data_mean + data_std]\n",
        "            non_intensive_data = data[data < data_mean]\n",
        "            \n",
        "            data_skew = stats.skew(data)\n",
        "            data_kurtosis = stats.kurtosis(data)\n",
        "            intensive_skew = stats.skew(intensive_data)\n",
        "            non_intensive_skew = stats.skew(non_intensive_data)\n",
        "            \n",
        "            data_diff = np.diff(data)\n",
        "            \n",
        "            # write new features in df\n",
        "            features['Brats20ID'] = Brats20ID\n",
        "            features[f'{data_type}_skew'] = data_skew,\n",
        "            features[f'{data_type}_kurtosis'] = data_kurtosis,\n",
        "            features[f'{data_type}_diff_skew'] = stats.skew(data_diff),\n",
        "            features[f'{data_type}_intensive_dist'] = intensive_data.shape[0],\n",
        "            features[f'{data_type}_intensive_skew'] = intensive_skew,\n",
        "            features[f'{data_type}_non_intensive_dist'] = non_intensive_data.shape[0],\n",
        "            features[f'{data_type}_non_intensive_skew'] = non_intensive_skew,\n",
        "            #features[f'{data_type}_intensive_non_intensive_mean_ratio'] = intensive_data.mean() / non_intensive_data.mean(),\n",
        "            #features[f'{data_type}_intensive_non_intensive_std_ratio'] = intensive_data.std() / non_intensive_data.std(),\n",
        "            features[f'{data_type}_data_intensive_skew_difference'] = data_skew - intensive_skew,\n",
        "            features[f'{data_type}_data_non_intensive_skew_difference'] = data_skew - non_intensive_skew,\n",
        "            features[f'{data_type}_more_intensive_dist'] = more_intensive_data.shape[0],\n",
        "            \n",
        "            parts = 15\n",
        "            for p, part in enumerate(np.array_split(data, parts)):\n",
        "                features[f'{data_type}_part{p}_mean'] = part.mean()\n",
        "                \n",
        "            # Latent Features    \n",
        "            img = self._normalize(img_data)\n",
        "            images.append(img.astype(np.float32))\n",
        "            \n",
        "        img = np.stack(images)\n",
        "        img = np.moveaxis(img, (0, 1, 2, 3), (0, 3, 2, 1))\n",
        "        latent_features = self.latent_feature_generator(img)\n",
        "        \n",
        "        for i, lf in enumerate(latent_features):\n",
        "                features[f'latent_f{i}'] = lf\n",
        "          \n",
        "        return pd.DataFrame(features)\n",
        "    \n",
        "    \n",
        "    def run(self):\n",
        "        \n",
        "        for _, row in tqdm(self.df.iterrows()):\n",
        "            ID = row['Brats20ID']\n",
        "            \n",
        "            df_features = self._create_features(ID)\n",
        "            \n",
        "            self.df_voxel_stats  = pd.concat([self.df_voxel_stats, df_features], axis=0) \n",
        "            \n",
        "        self.df_voxel_stats.reset_index(inplace=True, drop=True) \n",
        "        self.df_voxel_stats = self.df_voxel_stats.merge(self.df[['Brats20ID', 'Age', 'Survival_days']], on='Brats20ID', how='left')\n",
        "            "
      ],
      "execution_count": null,
      "outputs": []
    },
    {
      "cell_type": "code",
      "metadata": {
        "id": "RymS-RINcfDN"
      },
      "source": [
        "%%time\n",
        "model.eval();\n",
        "fg =  Features_Generator(df, model)\n",
        "fg.run()\n",
        "fg.df_voxel_stats.to_csv(\"df_with_voxel_stats_and_latent_features.csv\", index=False)\n",
        "fg.df_voxel_stats"
      ],
      "execution_count": null,
      "outputs": []
    },
    {
      "cell_type": "markdown",
      "metadata": {
        "id": "XFQE1NxmcfDN"
      },
      "source": [
        "Now that we have tabular data, we can use it to predict age and survival days.\n",
        "we will use SVR for this purpose."
      ]
    },
    {
      "cell_type": "code",
      "metadata": {
        "id": "sREWCzFIcfDN"
      },
      "source": [
        "df = pd.read_csv(\"df_with_voxel_stats_and_latent_features.csv\")#\n",
        "\n",
        "df['is_train'] = 0\n",
        "df['is_train'].loc[df['Survival_days'].notnull()] = 1\n",
        "\n",
        "df['SD'] = df['Survival_days'].str.extract(r'(\\d+[.\\d]*)')\n",
        "df['SD'] = df['SD'].astype(\"float64\")\n",
        "df['Age'] = df['Age'].astype(\"float64\")\n",
        "df.sample(5)"
      ],
      "execution_count": null,
      "outputs": []
    },
    {
      "cell_type": "code",
      "metadata": {
        "id": "Dq1QWeqzcfDO"
      },
      "source": [
        "test_df = df[df[\"is_train\"] != True].copy()\n",
        "df = df[df[\"is_train\"] == True].copy()\n",
        "print(\"train ->\", df.shape, \"test ->\", test_df.shape)"
      ],
      "execution_count": null,
      "outputs": []
    },
    {
      "cell_type": "code",
      "metadata": {
        "id": "fFEB7_jEcfDO"
      },
      "source": [
        "fig, ax = plt.subplots(figsize=(20, 10))\n",
        "sns.countplot(df['Age'].apply(lambda x: np.round(x, 0)), ax=ax, palette='Dark2')\n",
        "\n",
        "ax.set_xticks(ax.get_xticks()[::2]);\n",
        "ax.set_ylabel('number of unique (rounded) ages', fontsize=20)\n",
        "ax.set_xlabel('unique (rounded) ages', fontsize=20)\n",
        "ax.set_title(\"Distribution of rounded Ages in data\", fontsize=25, y=1.05, fontweight='bold');"
      ],
      "execution_count": null,
      "outputs": []
    },
    {
      "cell_type": "code",
      "metadata": {
        "id": "-GJkVkcIcfDO"
      },
      "source": [
        "fig, ax = plt.subplots(figsize=(20, 10))\n",
        "k = 10\n",
        "sns.countplot(df['SD'].apply(lambda x: int(k * round(float(x)/k))), ax=ax, palette='Dark2')#base * round(float(x)/base)\n",
        "\n",
        "ax.set_xticks(ax.get_xticks()[::2]);\n",
        "ax.set_ylabel('number of unique (rounding to the nearest {k}) Survival_days', fontsize=15)\n",
        "ax.set_xlabel(f'unique (rounding to the nearest {k}) Survival_days', fontsize=17)\n",
        "ax.set_title(\"Distribution of rounded Survival_days in data\", fontsize=25, y=1.05, fontweight='bold');"
      ],
      "execution_count": null,
      "outputs": []
    },
    {
      "cell_type": "code",
      "metadata": {
        "id": "i14Dw8dtcfDO"
      },
      "source": [
        "def metric(y_true, y_pred):\n",
        "    return np.mean(np.sum(np.abs(y_true - y_pred), axis=0)/np.sum(y_true, axis=0))"
      ],
      "execution_count": null,
      "outputs": []
    },
    {
      "cell_type": "code",
      "metadata": {
        "id": "GU2PNggIcfDP"
      },
      "source": [
        "%%time\n",
        "NUM_FOLDS = 7\n",
        "kf = KFold(n_splits=NUM_FOLDS, shuffle=True, random_state=config.seed)\n",
        "\n",
        "\n",
        "features = list(df.columns[1:-4])\n",
        "\n",
        "overal_score = 0\n",
        "for target, c, w in [(\"Age\", 100, 0.5), (\"SD\", 5, 0.5)]:    \n",
        "    y_oof = np.zeros(df.shape[0])\n",
        "    y_test = np.zeros((test_df.shape[0], NUM_FOLDS))\n",
        "    \n",
        "    for f, (train_ind, val_ind) in enumerate(kf.split(df, df)):\n",
        "        train_df, val_df = df.iloc[train_ind], df.iloc[val_ind]\n",
        "        train_df = train_df[train_df[target].notnull()]\n",
        "\n",
        "        model = SVR(C=c, cache_size=3000.0)\n",
        "        model.fit(train_df[features], train_df[target])\n",
        "\n",
        "        y_oof[val_ind] = model.predict(val_df[features])\n",
        "        y_test[:, f] = model.predict(test_df[features])\n",
        "        \n",
        "    df[\"pred_{}\".format(target)] = y_oof\n",
        "    test_df[target] = y_test.mean(axis=1)\n",
        "    score = metric(df[df[target].notnull()][target].values, df[df[target].notnull()][\"pred_{}\".format(target)].values)\n",
        "    overal_score += w*score\n",
        "    print(target, np.round(score, 4))\n",
        "    print()\n",
        "    \n",
        "print(\"Overal score:\", np.round(overal_score, 4))"
      ],
      "execution_count": null,
      "outputs": []
    }
  ]
}