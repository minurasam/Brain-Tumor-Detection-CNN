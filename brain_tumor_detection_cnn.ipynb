{
  "nbformat": 4,
  "nbformat_minor": 0,
  "metadata": {
    "kernelspec": {
      "display_name": "Python 3",
      "language": "python",
      "name": "python3"
    },
    "language_info": {
      "name": "python",
      "version": "3.6.6",
      "mimetype": "text/x-python",
      "codemirror_mode": {
        "name": "ipython",
        "version": 3
      },
      "pygments_lexer": "ipython3",
      "nbconvert_exporter": "python",
      "file_extension": ".py"
    },
    "colab": {
      "name": "brain-tumor-detection-cnn.ipynb",
      "provenance": [],
      "include_colab_link": true
    }
  },
  "cells": [
    {
      "cell_type": "markdown",
      "metadata": {
        "id": "view-in-github",
        "colab_type": "text"
      },
      "source": [
        "<a href=\"https://colab.research.google.com/github/minurasam/Brain-Tumor-Detection-CNN/blob/main/brain_tumor_detection_cnn.ipynb\" target=\"_parent\"><img src=\"https://colab.research.google.com/assets/colab-badge.svg\" alt=\"Open In Colab\"/></a>"
      ]
    },
    {
      "cell_type": "code",
      "metadata": {
        "_uuid": "8f2839f25d086af736a60e9eeb907d3b93b6e0e5",
        "_cell_guid": "b1076dfc-b9ad-4769-8c92-a6c4dae69d19",
        "execution": {
          "iopub.status.busy": "2021-09-27T06:16:59.802565Z",
          "iopub.execute_input": "2021-09-27T06:16:59.803513Z",
          "iopub.status.idle": "2021-09-27T06:17:04.142990Z",
          "shell.execute_reply.started": "2021-09-27T06:16:59.803407Z",
          "shell.execute_reply": "2021-09-27T06:17:04.141631Z"
        },
        "trusted": true,
        "id": "MONOwGP068C4"
      },
      "source": [
        "\n",
        "import numpy as np # linear algebra\n",
        "import pandas as pd # data processing, CSV file I/O (e.g. pd.read_csv)\n",
        "import math\n",
        "import cv2\n",
        "import matplotlib.pyplot as plt\n",
        "import os\n",
        "import seaborn as sns\n",
        "import umap\n",
        "from PIL import Image\n",
        "from scipy import misc\n",
        "from os import listdir\n",
        "from os.path import isfile, join\n",
        "import numpy as np\n",
        "from scipy import misc\n",
        "from random import shuffle\n",
        "from collections import Counter\n",
        "import matplotlib.pyplot as plt\n",
        "from sklearn.decomposition import PCA\n",
        "from sklearn.manifold import TSNE\n",
        "import tensorflow as tf\n",
        "from keras.models import Sequential\n",
        "from keras.layers import Conv2D, MaxPooling2D\n",
        "from keras.layers import Activation, Dropout, Flatten, Dense\n",
        "from keras.utils.np_utils import to_categorical"
      ],
      "execution_count": null,
      "outputs": []
    },
    {
      "cell_type": "code",
      "metadata": {
        "_cell_guid": "79c7e3d0-c299-4dcb-8224-4455121ee9b0",
        "_uuid": "d629ff2d2480ee46fbb7e2d37f6b5fab8052498a",
        "execution": {
          "iopub.status.busy": "2021-09-27T06:17:04.145249Z",
          "iopub.execute_input": "2021-09-27T06:17:04.145985Z",
          "iopub.status.idle": "2021-09-27T06:17:04.164867Z",
          "shell.execute_reply.started": "2021-09-27T06:17:04.145919Z",
          "shell.execute_reply": "2021-09-27T06:17:04.163911Z"
        },
        "trusted": true,
        "id": "eZbuvee668DB"
      },
      "source": [
        "os.listdir('../input/brain_tumor_dataset')"
      ],
      "execution_count": null,
      "outputs": []
    },
    {
      "cell_type": "code",
      "metadata": {
        "execution": {
          "iopub.status.busy": "2021-09-27T06:17:04.166367Z",
          "iopub.execute_input": "2021-09-27T06:17:04.166937Z",
          "iopub.status.idle": "2021-09-27T06:17:04.216848Z",
          "shell.execute_reply.started": "2021-09-27T06:17:04.166886Z",
          "shell.execute_reply": "2021-09-27T06:17:04.216019Z"
        },
        "trusted": true,
        "id": "9ucE6XrF68DB"
      },
      "source": [
        "im =Image.open('../input/brain_tumor_dataset/no/1 no.jpeg').resize((128,128))\n",
        "im"
      ],
      "execution_count": null,
      "outputs": []
    },
    {
      "cell_type": "code",
      "metadata": {
        "execution": {
          "iopub.status.busy": "2021-09-27T06:17:04.218689Z",
          "iopub.execute_input": "2021-09-27T06:17:04.219125Z",
          "iopub.status.idle": "2021-09-27T06:17:04.241527Z",
          "shell.execute_reply.started": "2021-09-27T06:17:04.219025Z",
          "shell.execute_reply": "2021-09-27T06:17:04.240246Z"
        },
        "trusted": true,
        "id": "uHNCieJ068DC"
      },
      "source": [
        "im =Image.open('../input/brain_tumor_dataset/yes/Y1.jpg').resize((128,128))\n",
        "im"
      ],
      "execution_count": null,
      "outputs": []
    },
    {
      "cell_type": "code",
      "metadata": {
        "execution": {
          "iopub.status.busy": "2021-09-27T06:17:04.243156Z",
          "iopub.execute_input": "2021-09-27T06:17:04.243718Z",
          "iopub.status.idle": "2021-09-27T06:17:04.274879Z",
          "shell.execute_reply.started": "2021-09-27T06:17:04.243475Z",
          "shell.execute_reply": "2021-09-27T06:17:04.273432Z"
        },
        "trusted": true,
        "id": "RVPeh9Gb68DD"
      },
      "source": [
        "yes=os.listdir('../input/brain_tumor_dataset/yes')\n",
        "no=os.listdir('../input/brain_tumor_dataset/no')"
      ],
      "execution_count": null,
      "outputs": []
    },
    {
      "cell_type": "code",
      "metadata": {
        "execution": {
          "iopub.status.busy": "2021-09-27T06:17:04.276649Z",
          "iopub.execute_input": "2021-09-27T06:17:04.277015Z",
          "iopub.status.idle": "2021-09-27T06:17:04.285465Z",
          "shell.execute_reply.started": "2021-09-27T06:17:04.276933Z",
          "shell.execute_reply": "2021-09-27T06:17:04.284200Z"
        },
        "trusted": true,
        "id": "DLkLfGU668DD"
      },
      "source": [
        "data=np.concatenate([yes,no])\n",
        "len(data)==len(yes)+len(no)"
      ],
      "execution_count": null,
      "outputs": []
    },
    {
      "cell_type": "code",
      "metadata": {
        "execution": {
          "iopub.status.busy": "2021-09-27T06:17:04.287356Z",
          "iopub.execute_input": "2021-09-27T06:17:04.287874Z",
          "iopub.status.idle": "2021-09-27T06:17:04.301826Z",
          "shell.execute_reply.started": "2021-09-27T06:17:04.287810Z",
          "shell.execute_reply": "2021-09-27T06:17:04.300498Z"
        },
        "trusted": true,
        "id": "gUkUJAXd68DE"
      },
      "source": [
        "target_x=np.full(len(yes),1)\n",
        "target_y=np.full(len(no),0)\n",
        "data_target=np.concatenate([target_x,target_y])\n",
        "len(data_target)==len(target_x)+len(target_y)"
      ],
      "execution_count": null,
      "outputs": []
    },
    {
      "cell_type": "code",
      "metadata": {
        "execution": {
          "iopub.status.busy": "2021-09-27T06:17:04.303763Z",
          "iopub.execute_input": "2021-09-27T06:17:04.304164Z",
          "iopub.status.idle": "2021-09-27T06:17:04.316645Z",
          "shell.execute_reply.started": "2021-09-27T06:17:04.304099Z",
          "shell.execute_reply": "2021-09-27T06:17:04.315152Z"
        },
        "trusted": true,
        "id": "TuJ48kGW68DE"
      },
      "source": [
        "len(data_target)==len(data)"
      ],
      "execution_count": null,
      "outputs": []
    },
    {
      "cell_type": "code",
      "metadata": {
        "execution": {
          "iopub.status.busy": "2021-09-27T06:17:04.318438Z",
          "iopub.execute_input": "2021-09-27T06:17:04.318724Z",
          "iopub.status.idle": "2021-09-27T06:17:04.331181Z",
          "shell.execute_reply.started": "2021-09-27T06:17:04.318679Z",
          "shell.execute_reply": "2021-09-27T06:17:04.329904Z"
        },
        "trusted": true,
        "id": "LEB4slEr68DF"
      },
      "source": [
        "data_target"
      ],
      "execution_count": null,
      "outputs": []
    },
    {
      "cell_type": "code",
      "metadata": {
        "execution": {
          "iopub.status.busy": "2021-09-27T06:17:04.332930Z",
          "iopub.execute_input": "2021-09-27T06:17:04.333250Z",
          "iopub.status.idle": "2021-09-27T06:17:04.344988Z",
          "shell.execute_reply.started": "2021-09-27T06:17:04.333195Z",
          "shell.execute_reply": "2021-09-27T06:17:04.343263Z"
        },
        "trusted": true,
        "id": "SxkTQMTJ68DG"
      },
      "source": [
        "data"
      ],
      "execution_count": null,
      "outputs": []
    },
    {
      "cell_type": "code",
      "metadata": {
        "execution": {
          "iopub.status.busy": "2021-09-27T06:17:04.347140Z",
          "iopub.execute_input": "2021-09-27T06:17:04.347621Z",
          "iopub.status.idle": "2021-09-27T06:17:04.357683Z",
          "shell.execute_reply.started": "2021-09-27T06:17:04.347536Z",
          "shell.execute_reply": "2021-09-27T06:17:04.356599Z"
        },
        "trusted": true,
        "id": "l7bZ3JOK68DG"
      },
      "source": [
        "yes_values=os.listdir('../input/brain_tumor_dataset/yes')\n",
        "no_values=os.listdir('../input/brain_tumor_dataset/no')"
      ],
      "execution_count": null,
      "outputs": []
    },
    {
      "cell_type": "code",
      "metadata": {
        "execution": {
          "iopub.status.busy": "2021-09-27T06:17:04.360692Z",
          "iopub.execute_input": "2021-09-27T06:17:04.361206Z",
          "iopub.status.idle": "2021-09-27T06:17:05.819746Z",
          "shell.execute_reply.started": "2021-09-27T06:17:04.361110Z",
          "shell.execute_reply": "2021-09-27T06:17:05.818152Z"
        },
        "trusted": true,
        "id": "vijBOfbl68DH"
      },
      "source": [
        "X_data =[]\n",
        "for file in yes_values:\n",
        "    #face = misc.imread('../input/brain_tumor_dataset/yes/'+file)\n",
        "    img = cv2.imread('../input/brain_tumor_dataset/yes/'+file)\n",
        "    face = cv2.resize(img, (32, 32) )\n",
        "    (b, g, r)=cv2.split(face) \n",
        "    img=cv2.merge([r,g,b])\n",
        "    X_data.append(img)"
      ],
      "execution_count": null,
      "outputs": []
    },
    {
      "cell_type": "code",
      "metadata": {
        "execution": {
          "iopub.status.busy": "2021-09-27T06:17:05.821662Z",
          "iopub.execute_input": "2021-09-27T06:17:05.822006Z",
          "iopub.status.idle": "2021-09-27T06:17:06.693693Z",
          "shell.execute_reply.started": "2021-09-27T06:17:05.821952Z",
          "shell.execute_reply": "2021-09-27T06:17:06.692920Z"
        },
        "trusted": true,
        "id": "FhCwaVxo68DH"
      },
      "source": [
        "#X_data =[]\n",
        "for file in no_values:\n",
        "    #face = misc.imread('../input/brain_tumor_dataset/yes/'+file)\n",
        "    img = cv2.imread('../input/brain_tumor_dataset/no/'+file)\n",
        "    face = cv2.resize(img, (32, 32) )\n",
        "    (b, g, r)=cv2.split(face) \n",
        "    img=cv2.merge([r,g,b])\n",
        "    X_data.append(img)"
      ],
      "execution_count": null,
      "outputs": []
    },
    {
      "cell_type": "code",
      "metadata": {
        "execution": {
          "iopub.status.busy": "2021-09-27T06:17:06.694755Z",
          "iopub.execute_input": "2021-09-27T06:17:06.695114Z",
          "iopub.status.idle": "2021-09-27T06:17:06.699916Z",
          "shell.execute_reply.started": "2021-09-27T06:17:06.695073Z",
          "shell.execute_reply": "2021-09-27T06:17:06.699200Z"
        },
        "trusted": true,
        "id": "yG-o0I3S68DI"
      },
      "source": [
        "len(X_data)==len(data)==len(data_target)"
      ],
      "execution_count": null,
      "outputs": []
    },
    {
      "cell_type": "code",
      "metadata": {
        "execution": {
          "iopub.status.busy": "2021-09-27T06:17:06.701184Z",
          "iopub.execute_input": "2021-09-27T06:17:06.701450Z",
          "iopub.status.idle": "2021-09-27T06:17:06.717174Z",
          "shell.execute_reply.started": "2021-09-27T06:17:06.701400Z",
          "shell.execute_reply": "2021-09-27T06:17:06.715754Z"
        },
        "trusted": true,
        "id": "c-phmA4j68DI"
      },
      "source": [
        "X = np.squeeze(X_data)\n"
      ],
      "execution_count": null,
      "outputs": []
    },
    {
      "cell_type": "code",
      "metadata": {
        "execution": {
          "iopub.status.busy": "2021-09-27T06:17:06.718250Z",
          "iopub.execute_input": "2021-09-27T06:17:06.718644Z",
          "iopub.status.idle": "2021-09-27T06:17:06.730600Z",
          "shell.execute_reply.started": "2021-09-27T06:17:06.718602Z",
          "shell.execute_reply": "2021-09-27T06:17:06.729567Z"
        },
        "trusted": true,
        "id": "QhcWN1IS68DI"
      },
      "source": [
        "X.shape\n"
      ],
      "execution_count": null,
      "outputs": []
    },
    {
      "cell_type": "code",
      "metadata": {
        "execution": {
          "iopub.status.busy": "2021-09-27T06:17:06.731943Z",
          "iopub.execute_input": "2021-09-27T06:17:06.732493Z",
          "iopub.status.idle": "2021-09-27T06:17:06.744966Z",
          "shell.execute_reply.started": "2021-09-27T06:17:06.732187Z",
          "shell.execute_reply": "2021-09-27T06:17:06.743831Z"
        },
        "trusted": true,
        "id": "eLDrLd4i68DJ"
      },
      "source": [
        "# normalize data\n",
        "X = X.astype('float32')\n",
        "X /= 255"
      ],
      "execution_count": null,
      "outputs": []
    },
    {
      "cell_type": "code",
      "metadata": {
        "execution": {
          "iopub.status.busy": "2021-09-27T06:17:06.746884Z",
          "iopub.execute_input": "2021-09-27T06:17:06.747913Z",
          "iopub.status.idle": "2021-09-27T06:17:06.756095Z",
          "shell.execute_reply.started": "2021-09-27T06:17:06.747730Z",
          "shell.execute_reply": "2021-09-27T06:17:06.754357Z"
        },
        "trusted": true,
        "id": "oy9woB8y68DJ"
      },
      "source": [
        "#categorical_labels = to_categorical(data_target, num_classes=2)\n"
      ],
      "execution_count": null,
      "outputs": []
    },
    {
      "cell_type": "code",
      "metadata": {
        "execution": {
          "iopub.status.busy": "2021-09-27T06:17:06.758460Z",
          "iopub.execute_input": "2021-09-27T06:17:06.759050Z",
          "iopub.status.idle": "2021-09-27T06:17:06.772226Z",
          "shell.execute_reply.started": "2021-09-27T06:17:06.758962Z",
          "shell.execute_reply": "2021-09-27T06:17:06.770705Z"
        },
        "trusted": true,
        "id": "TbGi0tH068DK"
      },
      "source": [
        "data_target"
      ],
      "execution_count": null,
      "outputs": []
    },
    {
      "cell_type": "code",
      "metadata": {
        "execution": {
          "iopub.status.busy": "2021-09-27T06:17:06.774584Z",
          "iopub.execute_input": "2021-09-27T06:17:06.775131Z",
          "iopub.status.idle": "2021-09-27T06:17:06.786610Z",
          "shell.execute_reply.started": "2021-09-27T06:17:06.775018Z",
          "shell.execute_reply": "2021-09-27T06:17:06.785069Z"
        },
        "trusted": true,
        "id": "ev-oybnF68DK"
      },
      "source": [
        "(x_train, y_train), (x_test, y_test) = (X[:190],data_target[:190]) , (X[190:] , data_target[190:])\n",
        "(x_valid , y_valid) = (x_test[:63], y_test[:63])\n",
        "#(x_test, y_test) = (x_test[63:], y_test[63:])"
      ],
      "execution_count": null,
      "outputs": []
    },
    {
      "cell_type": "code",
      "metadata": {
        "execution": {
          "iopub.status.busy": "2021-09-27T06:17:06.789252Z",
          "iopub.execute_input": "2021-09-27T06:17:06.790095Z",
          "iopub.status.idle": "2021-09-27T06:17:07.121723Z",
          "shell.execute_reply.started": "2021-09-27T06:17:06.789765Z",
          "shell.execute_reply": "2021-09-27T06:17:07.120096Z"
        },
        "trusted": true,
        "id": "OuVkb__k68DK"
      },
      "source": [
        "model = tf.keras.Sequential()\n",
        "\n",
        "# Must define the input shape in the first layer of the neural network\n",
        "model.add(tf.keras.layers.Conv2D(filters=16,kernel_size=9, padding='same', activation='relu', input_shape=(32,32,3))) \n",
        "model.add(tf.keras.layers.MaxPooling2D(pool_size=2))\n",
        "model.add(tf.keras.layers.Dropout(0.45))\n",
        "\n",
        "model.add(tf.keras.layers.Conv2D(filters=16,kernel_size=9,padding='same', activation='relu'))\n",
        "model.add(tf.keras.layers.MaxPooling2D(pool_size=2))\n",
        "model.add(tf.keras.layers.Dropout(0.25))\n",
        "\n",
        "model.add(tf.keras.layers.Conv2D(filters=36, kernel_size=9, padding='same', activation='relu'))\n",
        "model.add(tf.keras.layers.MaxPooling2D(pool_size=2))\n",
        "model.add(tf.keras.layers.Dropout(0.25))\n",
        "\n",
        "model.add(tf.keras.layers.Flatten())\n",
        "\n",
        "model.add(tf.keras.layers.Dense(512, activation='relu'))\n",
        "model.add(tf.keras.layers.Dropout(0.15))\n",
        "\n",
        "\n",
        "model.add(tf.keras.layers.Dense(1, activation='sigmoid'))\n",
        "\n",
        "# Take a look at the model summary\n",
        "model.summary()"
      ],
      "execution_count": null,
      "outputs": []
    },
    {
      "cell_type": "code",
      "metadata": {
        "execution": {
          "iopub.status.busy": "2021-09-27T06:17:07.126237Z",
          "iopub.execute_input": "2021-09-27T06:17:07.126599Z",
          "iopub.status.idle": "2021-09-27T06:17:07.311346Z",
          "shell.execute_reply.started": "2021-09-27T06:17:07.126534Z",
          "shell.execute_reply": "2021-09-27T06:17:07.310025Z"
        },
        "trusted": true,
        "id": "eGSkFPej68DL"
      },
      "source": [
        "model.compile(loss='binary_crossentropy',\n",
        "             optimizer=tf.keras.optimizers.Adam(),\n",
        "             metrics=['acc'])"
      ],
      "execution_count": null,
      "outputs": []
    },
    {
      "cell_type": "code",
      "metadata": {
        "execution": {
          "iopub.status.busy": "2021-09-27T06:17:07.313152Z",
          "iopub.execute_input": "2021-09-27T06:17:07.313458Z"
        },
        "trusted": true,
        "id": "tVSHMs--68DM"
      },
      "source": [
        "model.fit(x_train,\n",
        "         y_train,\n",
        "         batch_size=128,\n",
        "         epochs=150,\n",
        "         validation_data=(x_valid, y_valid),)"
      ],
      "execution_count": null,
      "outputs": []
    },
    {
      "cell_type": "code",
      "metadata": {
        "trusted": true,
        "id": "hfyQEOnC68DM"
      },
      "source": [
        "from IPython.display import SVG\n",
        "from keras.utils.vis_utils import model_to_dot\n",
        "SVG(model_to_dot(model,show_shapes = True).create(prog='dot', format='svg'))"
      ],
      "execution_count": null,
      "outputs": []
    },
    {
      "cell_type": "code",
      "metadata": {
        "trusted": true,
        "id": "2ZwPkz0S68DM"
      },
      "source": [
        "# Evaluate the model on test set\n",
        "score = model.evaluate(x_test, y_test, verbose=0)\n",
        "\n",
        "# Print test accuracy\n",
        "print('\\n', 'Test accuracy:', score[1])"
      ],
      "execution_count": null,
      "outputs": []
    },
    {
      "cell_type": "code",
      "metadata": {
        "trusted": true,
        "id": "MIFTEEZW68DM"
      },
      "source": [
        "labels =[\"Yes\",  # index 0\n",
        "        \"No\",      # index 1\n",
        "        ]"
      ],
      "execution_count": null,
      "outputs": []
    },
    {
      "cell_type": "code",
      "metadata": {
        "trusted": true,
        "id": "iRnMgJTE68DN"
      },
      "source": [
        "y_hat = model.predict(x_test)\n",
        "\n",
        "# Plot a random sample of 10 test images, their predicted labels and ground truth\n",
        "figure = plt.figure(figsize=(20, 8))\n",
        "for i, index in enumerate(np.random.choice(x_test.shape[0], size=15, replace=False)):\n",
        "    ax = figure.add_subplot(3, 5, i + 1, xticks=[], yticks=[])\n",
        "    # Display each image\n",
        "    ax.imshow(np.squeeze(x_test[index]))\n",
        "    predict_index = np.argmax(y_hat[index])\n",
        "    true_index = np.argmax(y_test[index])\n",
        "    # Set the title for each image\n",
        "    ax.set_title(\"{} ({})\".format(labels[predict_index], \n",
        "                                  labels[true_index]),\n",
        "                                  color=(\"green\" if predict_index == true_index else \"red\"))\n",
        "plt.show()"
      ],
      "execution_count": null,
      "outputs": []
    },
    {
      "cell_type": "code",
      "metadata": {
        "trusted": true,
        "id": "OLsdj6HR68DN"
      },
      "source": [
        ""
      ],
      "execution_count": null,
      "outputs": []
    }
  ]
}